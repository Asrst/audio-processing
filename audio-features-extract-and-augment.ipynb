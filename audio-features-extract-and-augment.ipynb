{
 "cells": [
  {
   "cell_type": "code",
   "execution_count": 1,
   "id": "8479f6e4",
   "metadata": {
    "_cell_guid": "b1076dfc-b9ad-4769-8c92-a6c4dae69d19",
    "_uuid": "8f2839f25d086af736a60e9eeb907d3b93b6e0e5",
    "execution": {
     "iopub.execute_input": "2021-08-29T07:08:46.728387Z",
     "iopub.status.busy": "2021-08-29T07:08:46.727661Z",
     "iopub.status.idle": "2021-08-29T07:08:58.592835Z",
     "shell.execute_reply": "2021-08-29T07:08:58.592028Z",
     "shell.execute_reply.started": "2021-08-28T17:24:35.887567Z"
    },
    "papermill": {
     "duration": 11.898197,
     "end_time": "2021-08-29T07:08:58.593006",
     "exception": false,
     "start_time": "2021-08-29T07:08:46.694809",
     "status": "completed"
    },
    "tags": []
   },
   "outputs": [
    {
     "name": "stdout",
     "output_type": "stream",
     "text": [
      "/kaggle/input/predict-human-emotions-from-audio/dataset/sample_submission.csv\n",
      "/kaggle/input/predict-human-emotions-from-audio/dataset/train.csv\n",
      "/kaggle/input/predict-human-emotions-from-audio/dataset/test.csv\n",
      "/kaggle/input/predict-human-emotions-from-audio/dataset/TestAudioFiles/13738.mp3\n",
      "/kaggle/input/predict-human-emotions-from-audio/dataset/TestAudioFiles/28919.mp3\n",
      "/kaggle/input/predict-human-emotions-from-audio/dataset/TestAudioFiles/28562.mp3\n",
      "/kaggle/input/predict-human-emotions-from-audio/dataset/TestAudioFiles/8142.mp3\n",
      "/kaggle/input/predict-human-emotions-from-audio/dataset/TrainAudioFiles/23694.mp3\n",
      "/kaggle/input/predict-human-emotions-from-audio/dataset/TrainAudioFiles/11507.mp3\n",
      "/kaggle/input/predict-human-emotions-from-audio/dataset/TrainAudioFiles/28967.mp3\n",
      "/kaggle/input/predict-human-emotions-from-audio/dataset/TrainAudioFiles/5313.mp3\n"
     ]
    }
   ],
   "source": [
    "import numpy as np # linear algebra\n",
    "import pandas as pd # data processing, CSV file I/O (e.g. pd.read_csv)\n",
    "import warnings\n",
    "warnings.filterwarnings('ignore')\n",
    "import matplotlib.pyplot as plt\n",
    "# Input data files are available in the read-only \"../input/\" directory\n",
    "import os\n",
    "for dirname, _, filenames in os.walk('/kaggle/input'):\n",
    "    for i, filename in enumerate(filenames):\n",
    "        if i > 3:\n",
    "            break\n",
    "        print(os.path.join(dirname, filename))"
   ]
  },
  {
   "cell_type": "code",
   "execution_count": 2,
   "id": "b4d0f7b1",
   "metadata": {
    "execution": {
     "iopub.execute_input": "2021-08-29T07:08:58.642647Z",
     "iopub.status.busy": "2021-08-29T07:08:58.641641Z",
     "iopub.status.idle": "2021-08-29T07:08:58.655451Z",
     "shell.execute_reply": "2021-08-29T07:08:58.655927Z",
     "shell.execute_reply.started": "2021-08-28T17:24:43.611442Z"
    },
    "papermill": {
     "duration": 0.040558,
     "end_time": "2021-08-29T07:08:58.656102",
     "exception": false,
     "start_time": "2021-08-29T07:08:58.615544",
     "status": "completed"
    },
    "tags": []
   },
   "outputs": [
    {
     "data": {
      "text/plain": [
       "(5816, 2492)"
      ]
     },
     "execution_count": 2,
     "metadata": {},
     "output_type": "execute_result"
    }
   ],
   "source": [
    "train_csv = \"/kaggle/input/predict-human-emotions-from-audio/dataset/train.csv\"\n",
    "test_csv = \"/kaggle/input/predict-human-emotions-from-audio/dataset/test.csv\"\n",
    "TRAIN_fp = \"/kaggle/input/predict-human-emotions-from-audio/dataset/TrainAudioFiles/\"\n",
    "TEST_fp = \"/kaggle/input/predict-human-emotions-from-audio/dataset/TestAudioFiles/\"\n",
    "\n",
    "train_files = [fn for fn in os.listdir(TRAIN_fp) if fn.split('.')[-1] in ['mp3', 'wav']]\n",
    "test_files = [fn for fn in os.listdir(TEST_fp) if fn.split('.')[-1] in ['mp3', 'wav']]\n",
    "len(train_files), len(test_files)"
   ]
  },
  {
   "cell_type": "code",
   "execution_count": 3,
   "id": "71ec5ceb",
   "metadata": {
    "execution": {
     "iopub.execute_input": "2021-08-29T07:08:58.700735Z",
     "iopub.status.busy": "2021-08-29T07:08:58.699793Z",
     "iopub.status.idle": "2021-08-29T07:08:58.843995Z",
     "shell.execute_reply": "2021-08-29T07:08:58.843424Z",
     "shell.execute_reply.started": "2021-08-28T17:24:43.629293Z"
    },
    "papermill": {
     "duration": 0.167501,
     "end_time": "2021-08-29T07:08:58.844133",
     "exception": false,
     "start_time": "2021-08-29T07:08:58.676632",
     "status": "completed"
    },
    "tags": []
   },
   "outputs": [
    {
     "data": {
      "text/plain": [
       "((5816, 2),\n",
       " Index(['filename', 'emotion'], dtype='object'),\n",
       " neutral     2630\n",
       " joy          967\n",
       " surprise     640\n",
       " anger        596\n",
       " sadness      344\n",
       " fear         328\n",
       " disgust      311\n",
       " Name: emotion, dtype: int64)"
      ]
     },
     "execution_count": 3,
     "metadata": {},
     "output_type": "execute_result"
    }
   ],
   "source": [
    "train_df = pd.read_csv(train_csv)\n",
    "train_df.to_csv(\"train.csv\", index=False)\n",
    "train_df.shape, train_df.columns, train_df['emotion'].value_counts()"
   ]
  },
  {
   "cell_type": "code",
   "execution_count": 4,
   "id": "12eb298d",
   "metadata": {
    "execution": {
     "iopub.execute_input": "2021-08-29T07:08:58.892955Z",
     "iopub.status.busy": "2021-08-29T07:08:58.892283Z",
     "iopub.status.idle": "2021-08-29T07:08:58.913062Z",
     "shell.execute_reply": "2021-08-29T07:08:58.913685Z",
     "shell.execute_reply.started": "2021-08-28T17:24:43.661863Z"
    },
    "papermill": {
     "duration": 0.048362,
     "end_time": "2021-08-29T07:08:58.913883",
     "exception": false,
     "start_time": "2021-08-29T07:08:58.865521",
     "status": "completed"
    },
    "tags": []
   },
   "outputs": [
    {
     "data": {
      "text/plain": [
       "((2492, 1), Index(['filename'], dtype='object'))"
      ]
     },
     "execution_count": 4,
     "metadata": {},
     "output_type": "execute_result"
    }
   ],
   "source": [
    "test_df = pd.read_csv(test_csv)\n",
    "test_df.to_csv(\"test.csv\", index=False)\n",
    "test_df.shape, test_df.columns"
   ]
  },
  {
   "cell_type": "code",
   "execution_count": 5,
   "id": "e957c40f",
   "metadata": {
    "execution": {
     "iopub.execute_input": "2021-08-29T07:08:58.966673Z",
     "iopub.status.busy": "2021-08-29T07:08:58.965832Z",
     "iopub.status.idle": "2021-08-29T07:09:01.867327Z",
     "shell.execute_reply": "2021-08-29T07:09:01.867905Z",
     "shell.execute_reply.started": "2021-08-28T17:24:43.676347Z"
    },
    "papermill": {
     "duration": 2.930726,
     "end_time": "2021-08-29T07:09:01.868086",
     "exception": false,
     "start_time": "2021-08-29T07:08:58.937360",
     "status": "completed"
    },
    "tags": []
   },
   "outputs": [
    {
     "data": {
      "text/plain": [
       "((44982,), 44100, (44982,))"
      ]
     },
     "execution_count": 5,
     "metadata": {},
     "output_type": "execute_result"
    }
   ],
   "source": [
    "import librosa.util.utils as util\n",
    "import librosa\n",
    "import librosa.display\n",
    "import audioread\n",
    "\n",
    "def audioread_load(path, offset=0.0,\n",
    "                   duration=None, dtype=np.float32):\n",
    "    \n",
    "    \"\"\"\n",
    "    Load an audio buffer using audioread.\n",
    "    This loads one block at a time, and then concatenates the results.\n",
    "    \"\"\"\n",
    "    y = []\n",
    "    with audioread.audio_open(path) as input_file:\n",
    "        sr_native = input_file.samplerate\n",
    "        n_channels = input_file.channels\n",
    "\n",
    "        s_start = int(np.round(sr_native * offset)) * n_channels\n",
    "\n",
    "        if duration is None:\n",
    "            s_end = np.inf\n",
    "        else:\n",
    "            s_end = s_start + (int(np.round(sr_native * duration)) * n_channels)\n",
    "\n",
    "        n = 0\n",
    "        for frame in input_file:\n",
    "            frame = util.buf_to_float(frame, dtype=dtype)\n",
    "            n_prev = n\n",
    "            n = n + len(frame)\n",
    "\n",
    "            if n < s_start:\n",
    "                # offset is after the current frame\n",
    "                # keep reading\n",
    "                continue\n",
    "\n",
    "            if s_end < n_prev:\n",
    "                # we're off the end.  stop reading\n",
    "                break\n",
    "\n",
    "            if s_end < n:\n",
    "                # the end is in this frame.  crop.\n",
    "                frame = frame[: s_end - n_prev]\n",
    "\n",
    "            if n_prev <= s_start <= n:\n",
    "                # beginning is in this frame\n",
    "                frame = frame[(s_start - n_prev) :]\n",
    "                \n",
    "            # tack on the current frame\n",
    "            y.append(frame)\n",
    "    if y:\n",
    "        y = np.concatenate(y)\n",
    "        if n_channels > 1:\n",
    "            y = y.reshape((-1, n_channels)).T\n",
    "    else:\n",
    "        y = np.empty(0, dtype=dtype)\n",
    "        \n",
    "    if n_channels > 1:\n",
    "        y = librosa.to_mono(y)\n",
    "\n",
    "    return y, sr_native\n",
    "\n",
    "\n",
    "sample_fp = f\"{TRAIN_fp}/28967.mp3\"\n",
    "# y, sr = audioread_load(sample_fp, duration=5, sr=16000)\n",
    "y, sr = librosa.load(sample_fp, sr=None)\n",
    "yt,_ = librosa.effects.trim(y)\n",
    "y.shape, sr, yt.shape"
   ]
  },
  {
   "cell_type": "code",
   "execution_count": 6,
   "id": "a407fb1c",
   "metadata": {
    "execution": {
     "iopub.execute_input": "2021-08-29T07:09:01.914834Z",
     "iopub.status.busy": "2021-08-29T07:09:01.914103Z",
     "iopub.status.idle": "2021-08-29T07:09:01.922940Z",
     "shell.execute_reply": "2021-08-29T07:09:01.923489Z",
     "shell.execute_reply.started": "2021-08-28T17:24:52.168566Z"
    },
    "papermill": {
     "duration": 0.034194,
     "end_time": "2021-08-29T07:09:01.923665",
     "exception": false,
     "start_time": "2021-08-29T07:09:01.889471",
     "status": "completed"
    },
    "tags": []
   },
   "outputs": [
    {
     "data": {
      "text/plain": [
       "{'anger': 0,\n",
       " 'disgust': 1,\n",
       " 'fear': 2,\n",
       " 'joy': 3,\n",
       " 'neutral': 4,\n",
       " 'sadness': 5,\n",
       " 'surprise': 6}"
      ]
     },
     "execution_count": 6,
     "metadata": {},
     "output_type": "execute_result"
    }
   ],
   "source": [
    "classes = sorted(train_df['emotion'].unique().tolist())\n",
    "map_class_to_id = dict(zip(classes, range(0, len(classes))))\n",
    "map_class_to_id"
   ]
  },
  {
   "cell_type": "code",
   "execution_count": 7,
   "id": "d91f749b",
   "metadata": {
    "execution": {
     "iopub.execute_input": "2021-08-29T07:09:01.969712Z",
     "iopub.status.busy": "2021-08-29T07:09:01.969040Z",
     "iopub.status.idle": "2021-08-29T07:09:01.993843Z",
     "shell.execute_reply": "2021-08-29T07:09:01.994447Z",
     "shell.execute_reply.started": "2021-08-28T17:24:52.947722Z"
    },
    "papermill": {
     "duration": 0.049341,
     "end_time": "2021-08-29T07:09:01.994618",
     "exception": false,
     "start_time": "2021-08-29T07:09:01.945277",
     "status": "completed"
    },
    "tags": []
   },
   "outputs": [
    {
     "data": {
      "text/plain": [
       "(0    /kaggle/input/predict-human-emotions-from-audi...\n",
       " 1    /kaggle/input/predict-human-emotions-from-audi...\n",
       " Name: filename, dtype: object,\n",
       " 0    4\n",
       " 1    4\n",
       " Name: emotion, dtype: int64)"
      ]
     },
     "execution_count": 7,
     "metadata": {},
     "output_type": "execute_result"
    }
   ],
   "source": [
    "filepaths =  train_df['filename'].apply(lambda x:os.path.join(TRAIN_fp,x))\n",
    "class_ids = train_df['emotion'].apply(lambda n: map_class_to_id[n])\n",
    "filepaths.head(2), class_ids.head(2)"
   ]
  },
  {
   "cell_type": "code",
   "execution_count": 8,
   "id": "cf0adf24",
   "metadata": {
    "execution": {
     "iopub.execute_input": "2021-08-29T07:09:02.041208Z",
     "iopub.status.busy": "2021-08-29T07:09:02.040595Z",
     "iopub.status.idle": "2021-08-29T07:09:02.059088Z",
     "shell.execute_reply": "2021-08-29T07:09:02.059617Z",
     "shell.execute_reply.started": "2021-08-28T17:41:33.198001Z"
    },
    "papermill": {
     "duration": 0.043382,
     "end_time": "2021-08-29T07:09:02.059805",
     "exception": false,
     "start_time": "2021-08-29T07:09:02.016423",
     "status": "completed"
    },
    "tags": []
   },
   "outputs": [],
   "source": [
    "import librosa as lb\n",
    "import soundfile as sf\n",
    "\n",
    "def load_audio(fp):\n",
    "    y, sr = audioread_load(fp, duration=30)\n",
    "    if sr != 22050:\n",
    "        y = librosa.resample(y, sr, 22050)\n",
    "    yt, _ = librosa.effects.trim(y)\n",
    "    return yt, sr\n",
    "\n",
    "\n",
    "def noise(data):\n",
    "    noise_amp = 0.04*np.random.uniform()*np.amax(data)\n",
    "    data = data + noise_amp*np.random.normal(size=data.shape[0])\n",
    "    return data\n",
    "\n",
    "def stretch(data, rate=0.70):\n",
    "    return librosa.effects.time_stretch(data, rate)\n",
    "\n",
    "def shift(data):\n",
    "    shift_range = int(np.random.uniform(low=-5, high = 5)*1000)\n",
    "    return np.roll(data, shift_range)\n",
    "\n",
    "def pitch(data, sr, pitch_factor=0.8):\n",
    "    return librosa.effects.pitch_shift(data, sr, pitch_factor)\n",
    "\n",
    "\n",
    "def extract_feat(audio, sr):\n",
    "    mfccs=np.mean(librosa.feature.mfcc(y=audio, sr=sr, n_mfcc=40).T, axis=0)\n",
    "    stft = np.abs(librosa.stft(audio))\n",
    "    chromas=np.mean(lb.feature.chroma_stft(S=stft, sr=sr).T,axis=0)\n",
    "    contrast = np.mean(librosa.feature.spectral_contrast(S=stft, sr=sr).T,\n",
    "                       axis=0)\n",
    "    mels=np.mean(librosa.feature.melspectrogram(audio, sr=sr, \n",
    "                                    n_mels=128, fmax=8000).T,axis=0)        \n",
    "    \n",
    "    tonnetz = np.mean(librosa.feature.tonnetz(y=librosa.effects.harmonic(audio),\n",
    "                                              sr=sr).T,axis=0)\n",
    "    \n",
    "    rmse = np.mean(librosa.feature.rms(y=audio))\n",
    "    spec_cent = np.mean(librosa.feature.spectral_centroid(y=audio, sr=sr))\n",
    "    # spec_bw = np.mean(librosa.feature.spectral_bandwidth(y=audio, sr=sr))\n",
    "    # rolloff = np.mean(librosa.feature.spectral_rolloff(y=audio, sr=sr))\n",
    "    zcr = np.mean(librosa.feature.zero_crossing_rate(audio))\n",
    "    \n",
    "    result = np.hstack((mfccs, chromas, mels, contrast, tonnetz,\n",
    "                        rmse, spec_cent, zcr))\n",
    "    \n",
    "    return result\n",
    "\n",
    "def audio_features(fp, augument=True):\n",
    "    \n",
    "    all_augs = []\n",
    "    audio, sr = load_audio(fp)\n",
    "    \n",
    "    all_augs.append(extract_feat(audio, sr))\n",
    "    \n",
    "    if not augument:\n",
    "        return all_augs[0]\n",
    "    \n",
    "    noise_data = noise(audio)\n",
    "    all_augs.append(extract_feat(noise_data, sr))\n",
    "    pitch_data = pitch(audio, sr)\n",
    "    all_augs.append(extract_feat(pitch_data, sr))\n",
    "    strech_data = stretch(audio)\n",
    "    all_augs.append(extract_feat(strech_data, sr))\n",
    "    shift_data = shift(audio)\n",
    "    all_augs.append(extract_feat(shift_data, sr))\n",
    "\n",
    "    return all_augs"
   ]
  },
  {
   "cell_type": "code",
   "execution_count": 9,
   "id": "cc73f43d",
   "metadata": {
    "execution": {
     "iopub.execute_input": "2021-08-29T07:09:02.106592Z",
     "iopub.status.busy": "2021-08-29T07:09:02.105943Z",
     "iopub.status.idle": "2021-08-29T11:57:50.665730Z",
     "shell.execute_reply": "2021-08-29T11:57:50.666308Z",
     "shell.execute_reply.started": "2021-08-28T17:42:13.336784Z"
    },
    "papermill": {
     "duration": 17328.584963,
     "end_time": "2021-08-29T11:57:50.666541",
     "exception": false,
     "start_time": "2021-08-29T07:09:02.081578",
     "status": "completed"
    },
    "tags": []
   },
   "outputs": [
    {
     "data": {
      "application/vnd.jupyter.widget-view+json": {
       "model_id": "564b9903d8a84ca3afa81b4f88e98c80",
       "version_major": 2,
       "version_minor": 0
      },
      "text/plain": [
       "  0%|          | 0/5816 [00:00<?, ?it/s]"
      ]
     },
     "metadata": {},
     "output_type": "display_data"
    },
    {
     "data": {
      "text/plain": [
       "(29080, 29080)"
      ]
     },
     "execution_count": 9,
     "metadata": {},
     "output_type": "execute_result"
    }
   ],
   "source": [
    "from tqdm.notebook import tqdm\n",
    "\n",
    "train_data = []\n",
    "train_labels = []\n",
    "for fn, label in tqdm(train_df.values[:]):\n",
    "    path_load = os.path.join(TRAIN_fp,fn)\n",
    "    audio_feats = audio_features(path_load)\n",
    "    for feat in audio_feats:\n",
    "        train_data.append(feat)\n",
    "        train_labels.append(label)\n",
    "    \n",
    "train_feat = pd.DataFrame(train_data)\n",
    "train_feat['emotion'] = train_labels\n",
    "train_feat.to_csv(\"train_features.csv\", index=False)\n",
    "len(train_feat), len(train_labels)"
   ]
  },
  {
   "cell_type": "code",
   "execution_count": 10,
   "id": "b0ae8e4b",
   "metadata": {
    "execution": {
     "iopub.execute_input": "2021-08-29T11:57:50.752736Z",
     "iopub.status.busy": "2021-08-29T11:57:50.751677Z",
     "iopub.status.idle": "2021-08-29T12:28:18.367957Z",
     "shell.execute_reply": "2021-08-29T12:28:18.368477Z",
     "shell.execute_reply.started": "2021-08-28T17:41:37.552538Z"
    },
    "papermill": {
     "duration": 1827.679628,
     "end_time": "2021-08-29T12:28:18.368797",
     "exception": false,
     "start_time": "2021-08-29T11:57:50.689169",
     "status": "completed"
    },
    "tags": []
   },
   "outputs": [
    {
     "data": {
      "application/vnd.jupyter.widget-view+json": {
       "model_id": "4a2c4ab253124b5cba86e8bb5b2566b9",
       "version_major": 2,
       "version_minor": 0
      },
      "text/plain": [
       "  0%|          | 0/2492 [00:00<?, ?it/s]"
      ]
     },
     "metadata": {},
     "output_type": "display_data"
    },
    {
     "data": {
      "text/plain": [
       "2492"
      ]
     },
     "execution_count": 10,
     "metadata": {},
     "output_type": "execute_result"
    }
   ],
   "source": [
    "test_data = []\n",
    "test_fns = []\n",
    "for fn in tqdm(test_df['filename'].values[:]):\n",
    "    path_load = os.path.join(TEST_fp,fn)\n",
    "    audio_feat = audio_features(path_load, augument=False)\n",
    "    test_data.append(audio_feat)\n",
    "    test_fns.append(fn)\n",
    "\n",
    "test_feat = pd.DataFrame(test_data)\n",
    "test_feat.to_csv(\"test_features.csv\", index=False)\n",
    "len(test_feat)"
   ]
  },
  {
   "cell_type": "code",
   "execution_count": 11,
   "id": "f4d57b04",
   "metadata": {
    "execution": {
     "iopub.execute_input": "2021-08-29T12:28:18.424440Z",
     "iopub.status.busy": "2021-08-29T12:28:18.423730Z",
     "iopub.status.idle": "2021-08-29T12:28:18.428049Z",
     "shell.execute_reply": "2021-08-29T12:28:18.428645Z",
     "shell.execute_reply.started": "2021-08-28T11:12:44.489149Z"
    },
    "papermill": {
     "duration": 0.036834,
     "end_time": "2021-08-29T12:28:18.428822",
     "exception": false,
     "start_time": "2021-08-29T12:28:18.391988",
     "status": "completed"
    },
    "tags": []
   },
   "outputs": [
    {
     "name": "stdout",
     "output_type": "stream",
     "text": [
      "(29080, 197) (2492, 196)\n"
     ]
    },
    {
     "data": {
      "text/html": [
       "./<br>\n",
       "&nbsp;&nbsp;<a href='./__notebook__.ipynb' target='_blank'>__notebook__.ipynb</a><br>\n",
       "&nbsp;&nbsp;<a href='./test_features.csv' target='_blank'>test_features.csv</a><br>\n",
       "&nbsp;&nbsp;<a href='./train_features.csv' target='_blank'>train_features.csv</a><br>\n",
       "&nbsp;&nbsp;<a href='./train.csv' target='_blank'>train.csv</a><br>\n",
       "&nbsp;&nbsp;<a href='./test.csv' target='_blank'>test.csv</a><br>"
      ],
      "text/plain": [
       "./\n",
       "  __notebook__.ipynb\n",
       "  test_features.csv\n",
       "  train_features.csv\n",
       "  train.csv\n",
       "  test.csv"
      ]
     },
     "execution_count": 11,
     "metadata": {},
     "output_type": "execute_result"
    }
   ],
   "source": [
    "from IPython.display import FileLinks\n",
    "print(train_feat.shape, test_feat.shape)\n",
    "FileLinks('.')"
   ]
  },
  {
   "cell_type": "code",
   "execution_count": 12,
   "id": "47cad21b",
   "metadata": {
    "execution": {
     "iopub.execute_input": "2021-08-29T12:28:18.482566Z",
     "iopub.status.busy": "2021-08-29T12:28:18.481898Z",
     "iopub.status.idle": "2021-08-29T12:28:18.485382Z",
     "shell.execute_reply": "2021-08-29T12:28:18.485879Z",
     "shell.execute_reply.started": "2021-08-28T11:12:44.499266Z"
    },
    "papermill": {
     "duration": 0.032538,
     "end_time": "2021-08-29T12:28:18.486054",
     "exception": false,
     "start_time": "2021-08-29T12:28:18.453516",
     "status": "completed"
    },
    "tags": []
   },
   "outputs": [],
   "source": [
    "# from sklearn.preprocessing import StandardScaler\n",
    "# from sklearn.preprocessing import MinMaxScaler\n",
    "\n",
    "# scaler = StandardScaler()\n",
    "# X = scaler.fit_transform(train_feat)\n",
    "# X_test = scaler.transform(test_feat)\n",
    "# len(X), len(X_test), len(train_labels)"
   ]
  },
  {
   "cell_type": "code",
   "execution_count": 13,
   "id": "57108219",
   "metadata": {
    "_kg_hide-output": true,
    "execution": {
     "iopub.execute_input": "2021-08-29T12:28:18.540039Z",
     "iopub.status.busy": "2021-08-29T12:28:18.539393Z",
     "iopub.status.idle": "2021-08-29T12:28:18.543192Z",
     "shell.execute_reply": "2021-08-29T12:28:18.543766Z",
     "shell.execute_reply.started": "2021-08-28T11:12:44.540167Z"
    },
    "papermill": {
     "duration": 0.031887,
     "end_time": "2021-08-29T12:28:18.543944",
     "exception": false,
     "start_time": "2021-08-29T12:28:18.512057",
     "status": "completed"
    },
    "tags": []
   },
   "outputs": [],
   "source": [
    "# from sklearn.model_selection import train_test_split # for splitting training and testing\n",
    "# from sklearn.neural_network import MLPClassifier # multi-layer perceptron model\n",
    "# from sklearn.metrics import accuracy_score # to measure how good we are\n",
    "# from sklearn.compose import ColumnTransformer\n",
    "# from sklearn.pipeline import Pipeline\n",
    "# from sklearn.preprocessing import OneHotEncoder\n",
    "# from sklearn.impute import SimpleImputer\n",
    "# from sklearn.model_selection import TimeSeriesSplit\n",
    "# from sklearn.model_selection import RandomizedSearchCV\n",
    "# from sklearn.model_selection import cross_validate\n",
    "# from sklearn.ensemble import RandomForestClassifier\n",
    "# from sklearn.metrics import make_scorer\n",
    "\n",
    "# X_train, X_val, y_train, y_val = train_test_split(train_feat,\n",
    "#                                                 train_labels, test_size=0.2)"
   ]
  },
  {
   "cell_type": "code",
   "execution_count": 14,
   "id": "87a09404",
   "metadata": {
    "execution": {
     "iopub.execute_input": "2021-08-29T12:28:18.596831Z",
     "iopub.status.busy": "2021-08-29T12:28:18.596144Z",
     "iopub.status.idle": "2021-08-29T12:28:18.600398Z",
     "shell.execute_reply": "2021-08-29T12:28:18.600861Z",
     "shell.execute_reply.started": "2021-08-28T11:12:44.603493Z"
    },
    "papermill": {
     "duration": 0.032327,
     "end_time": "2021-08-29T12:28:18.601042",
     "exception": false,
     "start_time": "2021-08-29T12:28:18.568715",
     "status": "completed"
    },
    "tags": []
   },
   "outputs": [],
   "source": [
    "# # Initialize the MLP Classifier and choose parameters we want to keep constant\n",
    "# model = MLPClassifier(\n",
    "#     # tune batch size later \n",
    "#     batch_size=256,  \n",
    "#     # keep random state constant to accurately compare subsequent models\n",
    "#     random_state=69\n",
    "# )\n",
    "\n",
    "# param_space = {\n",
    "#     # It's a bad idea at guessing the number of hidden layers to have\n",
    "#     # ...but we'll give 2 and 3 hidden layers a shot to reaffirm our suspicions that 1 is best\n",
    "#     'hidden_layer_sizes': [(180,), (256,),\n",
    "#                            (100,50,),\n",
    "#                            (100,50,25),\n",
    "#                            (128, 64),\n",
    "#                            (128,64,32)], \n",
    "#     'activation': ['relu', 'logistic'],\n",
    "#     'solver': ['sgd', 'adam'],\n",
    "#     'alpha': [0.0001, 0.001, 0.01],\n",
    "#     'epsilon': [1e-07, 1e-05, 1e-03, 0.1],\n",
    "#     'learning_rate': ['adaptive']\n",
    "# }\n",
    "\n",
    "# # scoring=scoring, refit='AUC'\n",
    "# clf = RandomizedSearchCV(model, param_space, n_iter=49,\n",
    "#                          random_state=2021, cv=5,\n",
    "#                          scoring='f1_weighted')\n",
    "# search = clf.fit(X, train_labels)\n",
    "# search.best_score_, search.best_params_"
   ]
  },
  {
   "cell_type": "code",
   "execution_count": 15,
   "id": "1e8449b0",
   "metadata": {
    "_kg_hide-output": true,
    "execution": {
     "iopub.execute_input": "2021-08-29T12:28:18.654616Z",
     "iopub.status.busy": "2021-08-29T12:28:18.653572Z",
     "iopub.status.idle": "2021-08-29T12:28:18.655950Z",
     "shell.execute_reply": "2021-08-29T12:28:18.656451Z",
     "shell.execute_reply.started": "2021-08-28T11:12:44.611443Z"
    },
    "papermill": {
     "duration": 0.031313,
     "end_time": "2021-08-29T12:28:18.656621",
     "exception": false,
     "start_time": "2021-08-29T12:28:18.625308",
     "status": "completed"
    },
    "tags": []
   },
   "outputs": [],
   "source": [
    "# rfc= RandomForestClassifier()\n",
    "\n",
    "# param = dict(n_estimators=[500, 1000],\n",
    "#              criterion=['entropy'],\n",
    "#              max_features=['log2', 'sqrt'],\n",
    "#              class_weight=[\"balanced\"],\n",
    "#              min_samples_leaf=range(3,10),\n",
    "#              min_samples_split=range(3,10),\n",
    "#              max_depth=[i for i in range(25, 52, 3)] + [None]\n",
    "#             )\n",
    "\n",
    "# # scoring=scoring, refit='AUC'\n",
    "# clf = RandomizedSearchCV(rfc, param, n_iter=16,\n",
    "#                          random_state=2021, cv=5,\n",
    "#                          scoring='f1_weighted', n_jobs=-1)\n",
    "# search = clf.fit(X, train_labels)\n",
    "# search.best_score_, search.best_params_"
   ]
  },
  {
   "cell_type": "code",
   "execution_count": 16,
   "id": "7def0f66",
   "metadata": {
    "execution": {
     "iopub.execute_input": "2021-08-29T12:28:18.710095Z",
     "iopub.status.busy": "2021-08-29T12:28:18.708796Z",
     "iopub.status.idle": "2021-08-29T12:28:18.713074Z",
     "shell.execute_reply": "2021-08-29T12:28:18.713590Z",
     "shell.execute_reply.started": "2021-08-28T11:29:21.264897Z"
    },
    "papermill": {
     "duration": 0.032638,
     "end_time": "2021-08-29T12:28:18.713786",
     "exception": false,
     "start_time": "2021-08-29T12:28:18.681148",
     "status": "completed"
    },
    "tags": []
   },
   "outputs": [],
   "source": [
    "# from sklearn.ensemble import GradientBoostingClassifier\n",
    "# from lightgbm import LGBMClassifier\n",
    "\n",
    "# lgc = LGBMClassifier()\n",
    "\n",
    "# param = dict(n_estimators=[500, 1000, 1200, 2000],\n",
    "#              class_weight=[\"balanced\"],\n",
    "#              learning_rate=[0.005, 0.001, 0.05, 0.01, 0.1],\n",
    "#              max_depth=[i for i in range(11, 70, 3)] + [None]\n",
    "#             )\n",
    "\n",
    "# # scoring=scoring, refit='AUC'\n",
    "# clf = RandomizedSearchCV(lgc, param, n_iter=49,\n",
    "#                          random_state=2021, cv=5,\n",
    "#                          scoring='f1_weighted', n_jobs=-1)\n",
    "# search = clf.fit(X, train_labels)\n",
    "# search.best_score_, search.best_params_"
   ]
  },
  {
   "cell_type": "code",
   "execution_count": 17,
   "id": "b01eda81",
   "metadata": {
    "execution": {
     "iopub.execute_input": "2021-08-29T12:28:18.766051Z",
     "iopub.status.busy": "2021-08-29T12:28:18.765070Z",
     "iopub.status.idle": "2021-08-29T12:28:18.768655Z",
     "shell.execute_reply": "2021-08-29T12:28:18.769108Z"
    },
    "papermill": {
     "duration": 0.031251,
     "end_time": "2021-08-29T12:28:18.769302",
     "exception": false,
     "start_time": "2021-08-29T12:28:18.738051",
     "status": "completed"
    },
    "tags": []
   },
   "outputs": [],
   "source": [
    "# # y_proba = clf.predict_proba(test_feat)\n",
    "# pred_df = test_df[['filename']].copy()\n",
    "# pred_df['emotion'] = clf.predict(X_test)\n",
    "# pred_df.to_csv(\"test_pred_v5.csv\", index=False)"
   ]
  },
  {
   "cell_type": "code",
   "execution_count": 18,
   "id": "dd10d3e8",
   "metadata": {
    "execution": {
     "iopub.execute_input": "2021-08-29T12:28:18.821413Z",
     "iopub.status.busy": "2021-08-29T12:28:18.820458Z",
     "iopub.status.idle": "2021-08-29T12:28:18.823882Z",
     "shell.execute_reply": "2021-08-29T12:28:18.824342Z"
    },
    "papermill": {
     "duration": 0.031081,
     "end_time": "2021-08-29T12:28:18.824523",
     "exception": false,
     "start_time": "2021-08-29T12:28:18.793442",
     "status": "completed"
    },
    "tags": []
   },
   "outputs": [],
   "source": [
    "# mel_spect = librosa.feature.melspectrogram(y=yt, sr=sr, n_fft=2048//2, hop_length=512//2)\n",
    "# mel_spect = librosa.power_to_db(mel_spect, ref=np.max)\n",
    "# librosa.display.specshow(mel_spect, y_axis='mel', fmax=9000, x_axis='time');\n",
    "#plt.title('Mel Spectrogram');\n",
    "# plt.savefig('x.jpeg')"
   ]
  },
  {
   "cell_type": "code",
   "execution_count": 19,
   "id": "c2286868",
   "metadata": {
    "execution": {
     "iopub.execute_input": "2021-08-29T12:28:18.877639Z",
     "iopub.status.busy": "2021-08-29T12:28:18.876666Z",
     "iopub.status.idle": "2021-08-29T12:28:18.880530Z",
     "shell.execute_reply": "2021-08-29T12:28:18.880973Z"
    },
    "papermill": {
     "duration": 0.032415,
     "end_time": "2021-08-29T12:28:18.881146",
     "exception": false,
     "start_time": "2021-08-29T12:28:18.848731",
     "status": "completed"
    },
    "tags": []
   },
   "outputs": [],
   "source": [
    "\n",
    "# def read_audio(fp):\n",
    "#     with audioread.audio_open(fp) as f:\n",
    "#         # totalsec contains the length in float\n",
    "#         totalsec = f.duration\n",
    "#     return totalsec\n",
    "\n",
    "# train_durations = []\n",
    "# for fn, label in tqdm(train_df.values):\n",
    "#     path_load = os.path.join(TRAIN_fp,fn)\n",
    "#     train_durations.append(read_audio(path_load))\n",
    "    \n",
    "    \n",
    "# test_durations = []\n",
    "# for fn in tqdm(os.listdir(TEST_fp)):\n",
    "#     path_load = os.path.join(TEST_fp,fn)\n",
    "#     test_durations.append(read_audio(path_load))\n",
    "\n",
    "# sum(test_durations)/len(test_durations),min(test_durations), max(test_durations)"
   ]
  },
  {
   "cell_type": "code",
   "execution_count": 20,
   "id": "b72cb463",
   "metadata": {
    "execution": {
     "iopub.execute_input": "2021-08-29T12:28:18.934203Z",
     "iopub.status.busy": "2021-08-29T12:28:18.933277Z",
     "iopub.status.idle": "2021-08-29T12:28:18.937117Z",
     "shell.execute_reply": "2021-08-29T12:28:18.937690Z"
    },
    "papermill": {
     "duration": 0.032494,
     "end_time": "2021-08-29T12:28:18.937878",
     "exception": false,
     "start_time": "2021-08-29T12:28:18.905384",
     "status": "completed"
    },
    "tags": []
   },
   "outputs": [],
   "source": [
    "# from tqdm.notebook import tqdm\n",
    "\n",
    "# save_path = \"/kaggle/working/TrainImgFiles\"\n",
    "# if not os.path.exists(save_path):\n",
    "#     os.mkdir(save_path)\n",
    "    \n",
    "# train_data = []\n",
    "# for fn, label in tqdm(train_df.values):\n",
    "#     path_load = os.path.join(TRAIN_fp,fn)\n",
    "#     y, sr = audioread_load(path_load, duration=5)\n",
    "#     yt, _ = librosa.effects.trim(y)\n",
    "#     mel_spect = librosa.feature.melspectrogram(y=yt, sr=sr, n_fft=1024, hop_length=256)\n",
    "#     mel_spect = librosa.power_to_db(mel_spect, ref=np.max)\n",
    "#     print(mel_spect.shape)\n",
    "#     librosa.display.specshow(mel_spect, y_axis='mel', fmax=9000, x_axis='time')\n",
    "# #     save_dir = os.path.join(save_path,label)\n",
    "# #     if not os.path.exists(save_dir):\n",
    "# #         os.mkdir(save_dir)\n",
    "#     img_fn = f\"{fn.split('.')[0]}.png\"\n",
    "#     plt.savefig(os.path.join(save_path, img_fn))\n",
    "#     train_data.append([img_fn, label])"
   ]
  },
  {
   "cell_type": "code",
   "execution_count": 21,
   "id": "911c6396",
   "metadata": {
    "execution": {
     "iopub.execute_input": "2021-08-29T12:28:18.990512Z",
     "iopub.status.busy": "2021-08-29T12:28:18.989892Z",
     "iopub.status.idle": "2021-08-29T12:28:18.994604Z",
     "shell.execute_reply": "2021-08-29T12:28:18.993971Z"
    },
    "papermill": {
     "duration": 0.032205,
     "end_time": "2021-08-29T12:28:18.994742",
     "exception": false,
     "start_time": "2021-08-29T12:28:18.962537",
     "status": "completed"
    },
    "tags": []
   },
   "outputs": [],
   "source": [
    "# import librosa as lb\n",
    "# import soundfile as sf\n",
    "\n",
    "\n",
    "# def audio_features(file_title, mfcc, chroma, mel):\n",
    "#     with sf.SoundFile(file_title) as audio_recording:\n",
    "#         audio = audio_recording.read(dtype=\"float32\")\n",
    "#         sample_rate = audio_recording.samplerate\n",
    "        \n",
    "#         if chroma:\n",
    "#             stft=np.abs(lb.stft(audio))\n",
    "#             result=np.array([])\n",
    "#         if mfcc:\n",
    "#             mfccs=np.mean(lb.feature.mfcc(y=audio, sr=sample_rate, n_mfcc=40).T, axis=0)\n",
    "#             result=np.hstack((result, mfccs))\n",
    "#         if chroma:\n",
    "#             chroma=np.mean(lb.feature.chroma_stft(S=stft, sr=sample_rate).T,axis=0)\n",
    "#             result=np.hstack((result, chroma))\n",
    "#         if mel:\n",
    "#             mel=np.mean(lb.feature.melspectrogram(audio, sr=sample_rate).T,axis=0)\n",
    "#             result=np.hstack((result, mel))\n",
    "#         return result\n",
    "\n",
    "\n",
    "\n",
    "#         chroma_stft = librosa.feature.chroma_stft(y=y, sr=sr)\n",
    "#         rmse = librosa.feature.rmse(y=y)\n",
    "#         spec_cent = librosa.feature.spectral_centroid(y=y, sr=sr)\n",
    "#         spec_bw = librosa.feature.spectral_bandwidth(y=y, sr=sr)\n",
    "#         rolloff = librosa.feature.spectral_rolloff(y=y, sr=sr)\n",
    "#         zcr = librosa.feature.zero_crossing_rate(y)\n",
    "#         mfcc = librosa.feature.mfcc(y=y, sr=sr)\n",
    "#         to_append = f'{filename} {np.mean(chroma_stft)} {np.mean(rmse)} {np.mean(spec_cent)} {np.mean(spec_bw)} {np.mean(rolloff)} {np.mean(zcr)}'    \n",
    "#         for e in mfcc:\n",
    "#             to_append += f' {np.mean(e)}'\n",
    "#         to_append += f' {g}'"
   ]
  },
  {
   "cell_type": "code",
   "execution_count": null,
   "id": "742378a2",
   "metadata": {
    "papermill": {
     "duration": 0.024971,
     "end_time": "2021-08-29T12:28:19.044690",
     "exception": false,
     "start_time": "2021-08-29T12:28:19.019719",
     "status": "completed"
    },
    "tags": []
   },
   "outputs": [],
   "source": []
  },
  {
   "cell_type": "code",
   "execution_count": null,
   "id": "a3c15936",
   "metadata": {
    "papermill": {
     "duration": 0.024814,
     "end_time": "2021-08-29T12:28:19.094422",
     "exception": false,
     "start_time": "2021-08-29T12:28:19.069608",
     "status": "completed"
    },
    "tags": []
   },
   "outputs": [],
   "source": []
  }
 ],
 "metadata": {
  "kernelspec": {
   "display_name": "Python 3",
   "language": "python",
   "name": "python3"
  },
  "language_info": {
   "codemirror_mode": {
    "name": "ipython",
    "version": 3
   },
   "file_extension": ".py",
   "mimetype": "text/x-python",
   "name": "python",
   "nbconvert_exporter": "python",
   "pygments_lexer": "ipython3",
   "version": "3.7.10"
  },
  "papermill": {
   "default_parameters": {},
   "duration": 19182.373754,
   "end_time": "2021-08-29T12:28:20.336319",
   "environment_variables": {},
   "exception": null,
   "input_path": "__notebook__.ipynb",
   "output_path": "__notebook__.ipynb",
   "parameters": {},
   "start_time": "2021-08-29T07:08:37.962565",
   "version": "2.3.3"
  },
  "widgets": {
   "application/vnd.jupyter.widget-state+json": {
    "state": {
     "0763870d13fe4d24a7717535f67a48cf": {
      "model_module": "@jupyter-widgets/controls",
      "model_module_version": "1.5.0",
      "model_name": "DescriptionStyleModel",
      "state": {
       "_model_module": "@jupyter-widgets/controls",
       "_model_module_version": "1.5.0",
       "_model_name": "DescriptionStyleModel",
       "_view_count": null,
       "_view_module": "@jupyter-widgets/base",
       "_view_module_version": "1.2.0",
       "_view_name": "StyleView",
       "description_width": ""
      }
     },
     "1e3689d44bc64f99af7d0881b7e20c9b": {
      "model_module": "@jupyter-widgets/base",
      "model_module_version": "1.2.0",
      "model_name": "LayoutModel",
      "state": {
       "_model_module": "@jupyter-widgets/base",
       "_model_module_version": "1.2.0",
       "_model_name": "LayoutModel",
       "_view_count": null,
       "_view_module": "@jupyter-widgets/base",
       "_view_module_version": "1.2.0",
       "_view_name": "LayoutView",
       "align_content": null,
       "align_items": null,
       "align_self": null,
       "border": null,
       "bottom": null,
       "display": null,
       "flex": null,
       "flex_flow": null,
       "grid_area": null,
       "grid_auto_columns": null,
       "grid_auto_flow": null,
       "grid_auto_rows": null,
       "grid_column": null,
       "grid_gap": null,
       "grid_row": null,
       "grid_template_areas": null,
       "grid_template_columns": null,
       "grid_template_rows": null,
       "height": null,
       "justify_content": null,
       "justify_items": null,
       "left": null,
       "margin": null,
       "max_height": null,
       "max_width": null,
       "min_height": null,
       "min_width": null,
       "object_fit": null,
       "object_position": null,
       "order": null,
       "overflow": null,
       "overflow_x": null,
       "overflow_y": null,
       "padding": null,
       "right": null,
       "top": null,
       "visibility": null,
       "width": null
      }
     },
     "30f47d5ecec448b78b00d6619c657bf9": {
      "model_module": "@jupyter-widgets/controls",
      "model_module_version": "1.5.0",
      "model_name": "DescriptionStyleModel",
      "state": {
       "_model_module": "@jupyter-widgets/controls",
       "_model_module_version": "1.5.0",
       "_model_name": "DescriptionStyleModel",
       "_view_count": null,
       "_view_module": "@jupyter-widgets/base",
       "_view_module_version": "1.2.0",
       "_view_name": "StyleView",
       "description_width": ""
      }
     },
     "3cc0768c881946c48aaed79778b11c86": {
      "model_module": "@jupyter-widgets/controls",
      "model_module_version": "1.5.0",
      "model_name": "HTMLModel",
      "state": {
       "_dom_classes": [],
       "_model_module": "@jupyter-widgets/controls",
       "_model_module_version": "1.5.0",
       "_model_name": "HTMLModel",
       "_view_count": null,
       "_view_module": "@jupyter-widgets/controls",
       "_view_module_version": "1.5.0",
       "_view_name": "HTMLView",
       "description": "",
       "description_tooltip": null,
       "layout": "IPY_MODEL_db784b3761b04dcb820613a6ef30cf84",
       "placeholder": "​",
       "style": "IPY_MODEL_30f47d5ecec448b78b00d6619c657bf9",
       "value": " 2492/2492 [30:26&lt;00:00,  1.32it/s]"
      }
     },
     "4a2c4ab253124b5cba86e8bb5b2566b9": {
      "model_module": "@jupyter-widgets/controls",
      "model_module_version": "1.5.0",
      "model_name": "HBoxModel",
      "state": {
       "_dom_classes": [],
       "_model_module": "@jupyter-widgets/controls",
       "_model_module_version": "1.5.0",
       "_model_name": "HBoxModel",
       "_view_count": null,
       "_view_module": "@jupyter-widgets/controls",
       "_view_module_version": "1.5.0",
       "_view_name": "HBoxView",
       "box_style": "",
       "children": [
        "IPY_MODEL_7fd764bcc8d14bebbb73ec4b567be65f",
        "IPY_MODEL_9b04e387db1d4da890905e005cbd186e",
        "IPY_MODEL_3cc0768c881946c48aaed79778b11c86"
       ],
       "layout": "IPY_MODEL_5bc7d2a2518b4a9abc3eb734aec01df9"
      }
     },
     "564b9903d8a84ca3afa81b4f88e98c80": {
      "model_module": "@jupyter-widgets/controls",
      "model_module_version": "1.5.0",
      "model_name": "HBoxModel",
      "state": {
       "_dom_classes": [],
       "_model_module": "@jupyter-widgets/controls",
       "_model_module_version": "1.5.0",
       "_model_name": "HBoxModel",
       "_view_count": null,
       "_view_module": "@jupyter-widgets/controls",
       "_view_module_version": "1.5.0",
       "_view_name": "HBoxView",
       "box_style": "",
       "children": [
        "IPY_MODEL_fe6b6d42c42846f7a4aa49d904e5cc63",
        "IPY_MODEL_729cc074a1eb437da23211e3953a82bb",
        "IPY_MODEL_6c16386bf3e940a183ce0c9f670f7a1f"
       ],
       "layout": "IPY_MODEL_57858dfc69a64b889578b8ac57efcb7f"
      }
     },
     "57858dfc69a64b889578b8ac57efcb7f": {
      "model_module": "@jupyter-widgets/base",
      "model_module_version": "1.2.0",
      "model_name": "LayoutModel",
      "state": {
       "_model_module": "@jupyter-widgets/base",
       "_model_module_version": "1.2.0",
       "_model_name": "LayoutModel",
       "_view_count": null,
       "_view_module": "@jupyter-widgets/base",
       "_view_module_version": "1.2.0",
       "_view_name": "LayoutView",
       "align_content": null,
       "align_items": null,
       "align_self": null,
       "border": null,
       "bottom": null,
       "display": null,
       "flex": null,
       "flex_flow": null,
       "grid_area": null,
       "grid_auto_columns": null,
       "grid_auto_flow": null,
       "grid_auto_rows": null,
       "grid_column": null,
       "grid_gap": null,
       "grid_row": null,
       "grid_template_areas": null,
       "grid_template_columns": null,
       "grid_template_rows": null,
       "height": null,
       "justify_content": null,
       "justify_items": null,
       "left": null,
       "margin": null,
       "max_height": null,
       "max_width": null,
       "min_height": null,
       "min_width": null,
       "object_fit": null,
       "object_position": null,
       "order": null,
       "overflow": null,
       "overflow_x": null,
       "overflow_y": null,
       "padding": null,
       "right": null,
       "top": null,
       "visibility": null,
       "width": null
      }
     },
     "5bc7d2a2518b4a9abc3eb734aec01df9": {
      "model_module": "@jupyter-widgets/base",
      "model_module_version": "1.2.0",
      "model_name": "LayoutModel",
      "state": {
       "_model_module": "@jupyter-widgets/base",
       "_model_module_version": "1.2.0",
       "_model_name": "LayoutModel",
       "_view_count": null,
       "_view_module": "@jupyter-widgets/base",
       "_view_module_version": "1.2.0",
       "_view_name": "LayoutView",
       "align_content": null,
       "align_items": null,
       "align_self": null,
       "border": null,
       "bottom": null,
       "display": null,
       "flex": null,
       "flex_flow": null,
       "grid_area": null,
       "grid_auto_columns": null,
       "grid_auto_flow": null,
       "grid_auto_rows": null,
       "grid_column": null,
       "grid_gap": null,
       "grid_row": null,
       "grid_template_areas": null,
       "grid_template_columns": null,
       "grid_template_rows": null,
       "height": null,
       "justify_content": null,
       "justify_items": null,
       "left": null,
       "margin": null,
       "max_height": null,
       "max_width": null,
       "min_height": null,
       "min_width": null,
       "object_fit": null,
       "object_position": null,
       "order": null,
       "overflow": null,
       "overflow_x": null,
       "overflow_y": null,
       "padding": null,
       "right": null,
       "top": null,
       "visibility": null,
       "width": null
      }
     },
     "60fe8cc685c24a1a8d1252d4a0f26405": {
      "model_module": "@jupyter-widgets/base",
      "model_module_version": "1.2.0",
      "model_name": "LayoutModel",
      "state": {
       "_model_module": "@jupyter-widgets/base",
       "_model_module_version": "1.2.0",
       "_model_name": "LayoutModel",
       "_view_count": null,
       "_view_module": "@jupyter-widgets/base",
       "_view_module_version": "1.2.0",
       "_view_name": "LayoutView",
       "align_content": null,
       "align_items": null,
       "align_self": null,
       "border": null,
       "bottom": null,
       "display": null,
       "flex": null,
       "flex_flow": null,
       "grid_area": null,
       "grid_auto_columns": null,
       "grid_auto_flow": null,
       "grid_auto_rows": null,
       "grid_column": null,
       "grid_gap": null,
       "grid_row": null,
       "grid_template_areas": null,
       "grid_template_columns": null,
       "grid_template_rows": null,
       "height": null,
       "justify_content": null,
       "justify_items": null,
       "left": null,
       "margin": null,
       "max_height": null,
       "max_width": null,
       "min_height": null,
       "min_width": null,
       "object_fit": null,
       "object_position": null,
       "order": null,
       "overflow": null,
       "overflow_x": null,
       "overflow_y": null,
       "padding": null,
       "right": null,
       "top": null,
       "visibility": null,
       "width": null
      }
     },
     "6c16386bf3e940a183ce0c9f670f7a1f": {
      "model_module": "@jupyter-widgets/controls",
      "model_module_version": "1.5.0",
      "model_name": "HTMLModel",
      "state": {
       "_dom_classes": [],
       "_model_module": "@jupyter-widgets/controls",
       "_model_module_version": "1.5.0",
       "_model_name": "HTMLModel",
       "_view_count": null,
       "_view_module": "@jupyter-widgets/controls",
       "_view_module_version": "1.5.0",
       "_view_name": "HTMLView",
       "description": "",
       "description_tooltip": null,
       "layout": "IPY_MODEL_c2c7f64cc25f43478b08b4d1326f775e",
       "placeholder": "​",
       "style": "IPY_MODEL_ef1fc3043db1466a9bf23c1d2a461596",
       "value": " 5816/5816 [4:48:31&lt;00:00,  2.31s/it]"
      }
     },
     "6e12996be4bc415696710701eb2a36ac": {
      "model_module": "@jupyter-widgets/controls",
      "model_module_version": "1.5.0",
      "model_name": "DescriptionStyleModel",
      "state": {
       "_model_module": "@jupyter-widgets/controls",
       "_model_module_version": "1.5.0",
       "_model_name": "DescriptionStyleModel",
       "_view_count": null,
       "_view_module": "@jupyter-widgets/base",
       "_view_module_version": "1.2.0",
       "_view_name": "StyleView",
       "description_width": ""
      }
     },
     "729cc074a1eb437da23211e3953a82bb": {
      "model_module": "@jupyter-widgets/controls",
      "model_module_version": "1.5.0",
      "model_name": "FloatProgressModel",
      "state": {
       "_dom_classes": [],
       "_model_module": "@jupyter-widgets/controls",
       "_model_module_version": "1.5.0",
       "_model_name": "FloatProgressModel",
       "_view_count": null,
       "_view_module": "@jupyter-widgets/controls",
       "_view_module_version": "1.5.0",
       "_view_name": "ProgressView",
       "bar_style": "success",
       "description": "",
       "description_tooltip": null,
       "layout": "IPY_MODEL_f4e2e66d2a9e4adeaf319595ff95f156",
       "max": 5816.0,
       "min": 0.0,
       "orientation": "horizontal",
       "style": "IPY_MODEL_f3dd53d1aaba4e989f8935c88a47fb5b",
       "value": 5816.0
      }
     },
     "77eb2a4c01244e4997268b454d6d2c43": {
      "model_module": "@jupyter-widgets/base",
      "model_module_version": "1.2.0",
      "model_name": "LayoutModel",
      "state": {
       "_model_module": "@jupyter-widgets/base",
       "_model_module_version": "1.2.0",
       "_model_name": "LayoutModel",
       "_view_count": null,
       "_view_module": "@jupyter-widgets/base",
       "_view_module_version": "1.2.0",
       "_view_name": "LayoutView",
       "align_content": null,
       "align_items": null,
       "align_self": null,
       "border": null,
       "bottom": null,
       "display": null,
       "flex": null,
       "flex_flow": null,
       "grid_area": null,
       "grid_auto_columns": null,
       "grid_auto_flow": null,
       "grid_auto_rows": null,
       "grid_column": null,
       "grid_gap": null,
       "grid_row": null,
       "grid_template_areas": null,
       "grid_template_columns": null,
       "grid_template_rows": null,
       "height": null,
       "justify_content": null,
       "justify_items": null,
       "left": null,
       "margin": null,
       "max_height": null,
       "max_width": null,
       "min_height": null,
       "min_width": null,
       "object_fit": null,
       "object_position": null,
       "order": null,
       "overflow": null,
       "overflow_x": null,
       "overflow_y": null,
       "padding": null,
       "right": null,
       "top": null,
       "visibility": null,
       "width": null
      }
     },
     "7fd764bcc8d14bebbb73ec4b567be65f": {
      "model_module": "@jupyter-widgets/controls",
      "model_module_version": "1.5.0",
      "model_name": "HTMLModel",
      "state": {
       "_dom_classes": [],
       "_model_module": "@jupyter-widgets/controls",
       "_model_module_version": "1.5.0",
       "_model_name": "HTMLModel",
       "_view_count": null,
       "_view_module": "@jupyter-widgets/controls",
       "_view_module_version": "1.5.0",
       "_view_name": "HTMLView",
       "description": "",
       "description_tooltip": null,
       "layout": "IPY_MODEL_77eb2a4c01244e4997268b454d6d2c43",
       "placeholder": "​",
       "style": "IPY_MODEL_0763870d13fe4d24a7717535f67a48cf",
       "value": "100%"
      }
     },
     "9b04e387db1d4da890905e005cbd186e": {
      "model_module": "@jupyter-widgets/controls",
      "model_module_version": "1.5.0",
      "model_name": "FloatProgressModel",
      "state": {
       "_dom_classes": [],
       "_model_module": "@jupyter-widgets/controls",
       "_model_module_version": "1.5.0",
       "_model_name": "FloatProgressModel",
       "_view_count": null,
       "_view_module": "@jupyter-widgets/controls",
       "_view_module_version": "1.5.0",
       "_view_name": "ProgressView",
       "bar_style": "success",
       "description": "",
       "description_tooltip": null,
       "layout": "IPY_MODEL_60fe8cc685c24a1a8d1252d4a0f26405",
       "max": 2492.0,
       "min": 0.0,
       "orientation": "horizontal",
       "style": "IPY_MODEL_a83cede1c13648b7aad923a605beba01",
       "value": 2492.0
      }
     },
     "a83cede1c13648b7aad923a605beba01": {
      "model_module": "@jupyter-widgets/controls",
      "model_module_version": "1.5.0",
      "model_name": "ProgressStyleModel",
      "state": {
       "_model_module": "@jupyter-widgets/controls",
       "_model_module_version": "1.5.0",
       "_model_name": "ProgressStyleModel",
       "_view_count": null,
       "_view_module": "@jupyter-widgets/base",
       "_view_module_version": "1.2.0",
       "_view_name": "StyleView",
       "bar_color": null,
       "description_width": ""
      }
     },
     "c2c7f64cc25f43478b08b4d1326f775e": {
      "model_module": "@jupyter-widgets/base",
      "model_module_version": "1.2.0",
      "model_name": "LayoutModel",
      "state": {
       "_model_module": "@jupyter-widgets/base",
       "_model_module_version": "1.2.0",
       "_model_name": "LayoutModel",
       "_view_count": null,
       "_view_module": "@jupyter-widgets/base",
       "_view_module_version": "1.2.0",
       "_view_name": "LayoutView",
       "align_content": null,
       "align_items": null,
       "align_self": null,
       "border": null,
       "bottom": null,
       "display": null,
       "flex": null,
       "flex_flow": null,
       "grid_area": null,
       "grid_auto_columns": null,
       "grid_auto_flow": null,
       "grid_auto_rows": null,
       "grid_column": null,
       "grid_gap": null,
       "grid_row": null,
       "grid_template_areas": null,
       "grid_template_columns": null,
       "grid_template_rows": null,
       "height": null,
       "justify_content": null,
       "justify_items": null,
       "left": null,
       "margin": null,
       "max_height": null,
       "max_width": null,
       "min_height": null,
       "min_width": null,
       "object_fit": null,
       "object_position": null,
       "order": null,
       "overflow": null,
       "overflow_x": null,
       "overflow_y": null,
       "padding": null,
       "right": null,
       "top": null,
       "visibility": null,
       "width": null
      }
     },
     "db784b3761b04dcb820613a6ef30cf84": {
      "model_module": "@jupyter-widgets/base",
      "model_module_version": "1.2.0",
      "model_name": "LayoutModel",
      "state": {
       "_model_module": "@jupyter-widgets/base",
       "_model_module_version": "1.2.0",
       "_model_name": "LayoutModel",
       "_view_count": null,
       "_view_module": "@jupyter-widgets/base",
       "_view_module_version": "1.2.0",
       "_view_name": "LayoutView",
       "align_content": null,
       "align_items": null,
       "align_self": null,
       "border": null,
       "bottom": null,
       "display": null,
       "flex": null,
       "flex_flow": null,
       "grid_area": null,
       "grid_auto_columns": null,
       "grid_auto_flow": null,
       "grid_auto_rows": null,
       "grid_column": null,
       "grid_gap": null,
       "grid_row": null,
       "grid_template_areas": null,
       "grid_template_columns": null,
       "grid_template_rows": null,
       "height": null,
       "justify_content": null,
       "justify_items": null,
       "left": null,
       "margin": null,
       "max_height": null,
       "max_width": null,
       "min_height": null,
       "min_width": null,
       "object_fit": null,
       "object_position": null,
       "order": null,
       "overflow": null,
       "overflow_x": null,
       "overflow_y": null,
       "padding": null,
       "right": null,
       "top": null,
       "visibility": null,
       "width": null
      }
     },
     "ef1fc3043db1466a9bf23c1d2a461596": {
      "model_module": "@jupyter-widgets/controls",
      "model_module_version": "1.5.0",
      "model_name": "DescriptionStyleModel",
      "state": {
       "_model_module": "@jupyter-widgets/controls",
       "_model_module_version": "1.5.0",
       "_model_name": "DescriptionStyleModel",
       "_view_count": null,
       "_view_module": "@jupyter-widgets/base",
       "_view_module_version": "1.2.0",
       "_view_name": "StyleView",
       "description_width": ""
      }
     },
     "f3dd53d1aaba4e989f8935c88a47fb5b": {
      "model_module": "@jupyter-widgets/controls",
      "model_module_version": "1.5.0",
      "model_name": "ProgressStyleModel",
      "state": {
       "_model_module": "@jupyter-widgets/controls",
       "_model_module_version": "1.5.0",
       "_model_name": "ProgressStyleModel",
       "_view_count": null,
       "_view_module": "@jupyter-widgets/base",
       "_view_module_version": "1.2.0",
       "_view_name": "StyleView",
       "bar_color": null,
       "description_width": ""
      }
     },
     "f4e2e66d2a9e4adeaf319595ff95f156": {
      "model_module": "@jupyter-widgets/base",
      "model_module_version": "1.2.0",
      "model_name": "LayoutModel",
      "state": {
       "_model_module": "@jupyter-widgets/base",
       "_model_module_version": "1.2.0",
       "_model_name": "LayoutModel",
       "_view_count": null,
       "_view_module": "@jupyter-widgets/base",
       "_view_module_version": "1.2.0",
       "_view_name": "LayoutView",
       "align_content": null,
       "align_items": null,
       "align_self": null,
       "border": null,
       "bottom": null,
       "display": null,
       "flex": null,
       "flex_flow": null,
       "grid_area": null,
       "grid_auto_columns": null,
       "grid_auto_flow": null,
       "grid_auto_rows": null,
       "grid_column": null,
       "grid_gap": null,
       "grid_row": null,
       "grid_template_areas": null,
       "grid_template_columns": null,
       "grid_template_rows": null,
       "height": null,
       "justify_content": null,
       "justify_items": null,
       "left": null,
       "margin": null,
       "max_height": null,
       "max_width": null,
       "min_height": null,
       "min_width": null,
       "object_fit": null,
       "object_position": null,
       "order": null,
       "overflow": null,
       "overflow_x": null,
       "overflow_y": null,
       "padding": null,
       "right": null,
       "top": null,
       "visibility": null,
       "width": null
      }
     },
     "fe6b6d42c42846f7a4aa49d904e5cc63": {
      "model_module": "@jupyter-widgets/controls",
      "model_module_version": "1.5.0",
      "model_name": "HTMLModel",
      "state": {
       "_dom_classes": [],
       "_model_module": "@jupyter-widgets/controls",
       "_model_module_version": "1.5.0",
       "_model_name": "HTMLModel",
       "_view_count": null,
       "_view_module": "@jupyter-widgets/controls",
       "_view_module_version": "1.5.0",
       "_view_name": "HTMLView",
       "description": "",
       "description_tooltip": null,
       "layout": "IPY_MODEL_1e3689d44bc64f99af7d0881b7e20c9b",
       "placeholder": "​",
       "style": "IPY_MODEL_6e12996be4bc415696710701eb2a36ac",
       "value": "100%"
      }
     }
    },
    "version_major": 2,
    "version_minor": 0
   }
  }
 },
 "nbformat": 4,
 "nbformat_minor": 5
}
