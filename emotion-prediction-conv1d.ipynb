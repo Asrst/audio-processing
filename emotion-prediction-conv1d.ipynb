{
 "cells": [
  {
   "cell_type": "code",
   "execution_count": 1,
   "id": "a6850fe0",
   "metadata": {
    "_cell_guid": "b1076dfc-b9ad-4769-8c92-a6c4dae69d19",
    "_uuid": "8f2839f25d086af736a60e9eeb907d3b93b6e0e5",
    "execution": {
     "iopub.execute_input": "2021-08-28T18:22:36.335127Z",
     "iopub.status.busy": "2021-08-28T18:22:36.333860Z",
     "iopub.status.idle": "2021-08-28T18:22:49.872779Z",
     "shell.execute_reply": "2021-08-28T18:22:49.871631Z",
     "shell.execute_reply.started": "2021-08-28T18:20:36.891199Z"
    },
    "papermill": {
     "duration": 13.56264,
     "end_time": "2021-08-28T18:22:49.873006",
     "exception": false,
     "start_time": "2021-08-28T18:22:36.310366",
     "status": "completed"
    },
    "tags": []
   },
   "outputs": [
    {
     "name": "stdout",
     "output_type": "stream",
     "text": [
      "/kaggle/input/audio-emotions/Emotions/Suprised/03-01-08-01-01-01-02.wav\n",
      "/kaggle/input/audio-emotions/Emotions/Suprised/YAF_burn_ps.wav\n",
      "/kaggle/input/audio-emotions/Emotions/Fearful/YAF_home_fear.wav\n",
      "/kaggle/input/audio-emotions/Emotions/Fearful/1006_IOM_FEA_XX.wav\n",
      "/kaggle/input/audio-emotions/Emotions/Disgusted/1028_TSI_DIS_XX.wav\n",
      "/kaggle/input/audio-emotions/Emotions/Disgusted/1067_IWW_DIS_XX.wav\n",
      "/kaggle/input/audio-emotions/Emotions/Angry/1014_TAI_ANG_XX.wav\n",
      "/kaggle/input/audio-emotions/Emotions/Angry/1066_MTI_ANG_XX.wav\n",
      "/kaggle/input/audio-emotions/Emotions/Neutral/1037_WSI_NEU_XX.wav\n",
      "/kaggle/input/audio-emotions/Emotions/Neutral/1081_TIE_NEU_XX.wav\n",
      "/kaggle/input/audio-emotions/Emotions/Sad/1023_TIE_SAD_XX.wav\n",
      "/kaggle/input/audio-emotions/Emotions/Sad/1004_WSI_SAD_XX.wav\n",
      "/kaggle/input/audio-emotions/Emotions/Happy/1075_IEO_HAP_LO.wav\n",
      "/kaggle/input/audio-emotions/Emotions/Happy/1084_ITS_HAP_XX.wav\n"
     ]
    }
   ],
   "source": [
    "import numpy as np # linear algebra\n",
    "import pandas as pd # data processing, CSV file I/O (e.g. pd.read_csv)\n",
    "import warnings\n",
    "warnings.filterwarnings('ignore')\n",
    "import matplotlib.pyplot as plt\n",
    "# Input data files are available in the read-only \"../input/\" directory\n",
    "import os\n",
    "for dirname, _, filenames in os.walk('/kaggle/input'):\n",
    "    for i, filename in enumerate(filenames):\n",
    "        if i < 2:\n",
    "            print(os.path.join(dirname, filename))"
   ]
  },
  {
   "cell_type": "code",
   "execution_count": 2,
   "id": "e213156d",
   "metadata": {
    "execution": {
     "iopub.execute_input": "2021-08-28T18:22:49.918753Z",
     "iopub.status.busy": "2021-08-28T18:22:49.917799Z",
     "iopub.status.idle": "2021-08-28T18:22:49.921814Z",
     "shell.execute_reply": "2021-08-28T18:22:49.922313Z",
     "shell.execute_reply.started": "2021-08-28T18:20:41.412884Z"
    },
    "papermill": {
     "duration": 0.030589,
     "end_time": "2021-08-28T18:22:49.922492",
     "exception": false,
     "start_time": "2021-08-28T18:22:49.891903",
     "status": "completed"
    },
    "tags": []
   },
   "outputs": [
    {
     "data": {
      "text/plain": [
       "{'Angry': 'anger',\n",
       " 'Disgusted': 'disgust',\n",
       " 'Fearful': 'fear',\n",
       " 'Happy': 'joy',\n",
       " 'Neutral': 'neutral',\n",
       " 'Sad': 'sadness',\n",
       " 'Suprised': 'surprise'}"
      ]
     },
     "execution_count": 2,
     "metadata": {},
     "output_type": "execute_result"
    }
   ],
   "source": [
    "label_to_folder = {'anger': 'Angry','disgust': 'Disgusted',\n",
    "                   'fear': 'Fearful', 'joy': 'Happy',\n",
    "                   'neutral': 'Neutral','sadness': 'Sad',\n",
    "                   'surprise': 'Suprised'}\n",
    "\n",
    "emotion_map = {v:k for k, v in label_to_folder.items()}\n",
    "emotion_map"
   ]
  },
  {
   "cell_type": "code",
   "execution_count": 3,
   "id": "a2f4a41e",
   "metadata": {
    "execution": {
     "iopub.execute_input": "2021-08-28T18:22:49.967304Z",
     "iopub.status.busy": "2021-08-28T18:22:49.966338Z",
     "iopub.status.idle": "2021-08-28T18:22:50.207816Z",
     "shell.execute_reply": "2021-08-28T18:22:50.207154Z",
     "shell.execute_reply.started": "2021-08-28T11:15:58.175296Z"
    },
    "papermill": {
     "duration": 0.267035,
     "end_time": "2021-08-28T18:22:50.208021",
     "exception": false,
     "start_time": "2021-08-28T18:22:49.940986",
     "status": "completed"
    },
    "tags": []
   },
   "outputs": [
    {
     "data": {
      "text/plain": [
       "((12798, 2), Index(['filename', 'emotion'], dtype='object'))"
      ]
     },
     "execution_count": 3,
     "metadata": {},
     "output_type": "execute_result"
    }
   ],
   "source": [
    "DATA_DIR = \"/kaggle/input/audio-emotions/Emotions\"\n",
    "\n",
    "emotion_data = []\n",
    "for dirname, _, filenames in os.walk('/kaggle/input'):\n",
    "    for i, filename in enumerate(filenames):\n",
    "        fp = os.path.join(dirname, filename)\n",
    "        folder = os.path.basename(dirname)\n",
    "        emotion_data.append((fp, emotion_map[folder]))\n",
    "\n",
    "data_df = pd.DataFrame(emotion_data, columns=['filename', 'emotion'])\n",
    "data_df.to_csv(\"emotions_data.csv\", index=False)\n",
    "data_df.shape, data_df.columns"
   ]
  },
  {
   "cell_type": "code",
   "execution_count": 4,
   "id": "d98463fd",
   "metadata": {
    "execution": {
     "iopub.execute_input": "2021-08-28T18:22:50.251505Z",
     "iopub.status.busy": "2021-08-28T18:22:50.250833Z",
     "iopub.status.idle": "2021-08-28T18:22:50.275531Z",
     "shell.execute_reply": "2021-08-28T18:22:50.274980Z",
     "shell.execute_reply.started": "2021-08-28T11:15:58.363907Z"
    },
    "papermill": {
     "duration": 0.048908,
     "end_time": "2021-08-28T18:22:50.275671",
     "exception": false,
     "start_time": "2021-08-28T18:22:50.226763",
     "status": "completed"
    },
    "tags": []
   },
   "outputs": [
    {
     "data": {
      "text/html": [
       "<div>\n",
       "<style scoped>\n",
       "    .dataframe tbody tr th:only-of-type {\n",
       "        vertical-align: middle;\n",
       "    }\n",
       "\n",
       "    .dataframe tbody tr th {\n",
       "        vertical-align: top;\n",
       "    }\n",
       "\n",
       "    .dataframe thead th {\n",
       "        text-align: right;\n",
       "    }\n",
       "</style>\n",
       "<table border=\"1\" class=\"dataframe\">\n",
       "  <thead>\n",
       "    <tr style=\"text-align: right;\">\n",
       "      <th></th>\n",
       "      <th>filename</th>\n",
       "      <th>emotion</th>\n",
       "    </tr>\n",
       "  </thead>\n",
       "  <tbody>\n",
       "    <tr>\n",
       "      <th>0</th>\n",
       "      <td>/kaggle/input/audio-emotions/Emotions/Disguste...</td>\n",
       "      <td>disgust</td>\n",
       "    </tr>\n",
       "    <tr>\n",
       "      <th>1</th>\n",
       "      <td>/kaggle/input/audio-emotions/Emotions/Fearful/...</td>\n",
       "      <td>fear</td>\n",
       "    </tr>\n",
       "    <tr>\n",
       "      <th>2</th>\n",
       "      <td>/kaggle/input/audio-emotions/Emotions/Disguste...</td>\n",
       "      <td>disgust</td>\n",
       "    </tr>\n",
       "    <tr>\n",
       "      <th>3</th>\n",
       "      <td>/kaggle/input/audio-emotions/Emotions/Disguste...</td>\n",
       "      <td>disgust</td>\n",
       "    </tr>\n",
       "    <tr>\n",
       "      <th>4</th>\n",
       "      <td>/kaggle/input/audio-emotions/Emotions/Disguste...</td>\n",
       "      <td>disgust</td>\n",
       "    </tr>\n",
       "  </tbody>\n",
       "</table>\n",
       "</div>"
      ],
      "text/plain": [
       "                                            filename  emotion\n",
       "0  /kaggle/input/audio-emotions/Emotions/Disguste...  disgust\n",
       "1  /kaggle/input/audio-emotions/Emotions/Fearful/...     fear\n",
       "2  /kaggle/input/audio-emotions/Emotions/Disguste...  disgust\n",
       "3  /kaggle/input/audio-emotions/Emotions/Disguste...  disgust\n",
       "4  /kaggle/input/audio-emotions/Emotions/Disguste...  disgust"
      ]
     },
     "execution_count": 4,
     "metadata": {},
     "output_type": "execute_result"
    }
   ],
   "source": [
    "data_df = data_df.sample(frac=1).reset_index(drop=1)\n",
    "data_df.head()"
   ]
  },
  {
   "cell_type": "code",
   "execution_count": 5,
   "id": "d89f2a17",
   "metadata": {
    "execution": {
     "iopub.execute_input": "2021-08-28T18:22:50.324862Z",
     "iopub.status.busy": "2021-08-28T18:22:50.324168Z",
     "iopub.status.idle": "2021-08-28T18:22:52.727954Z",
     "shell.execute_reply": "2021-08-28T18:22:52.727306Z",
     "shell.execute_reply.started": "2021-08-28T11:15:58.389709Z"
    },
    "papermill": {
     "duration": 2.433878,
     "end_time": "2021-08-28T18:22:52.728101",
     "exception": false,
     "start_time": "2021-08-28T18:22:50.294223",
     "status": "completed"
    },
    "tags": []
   },
   "outputs": [],
   "source": [
    "import librosa.util.utils as util\n",
    "import librosa\n",
    "import librosa.display\n",
    "import audioread\n",
    "\n",
    "def audioread_load(path, offset=0.0,\n",
    "                   duration=None, dtype=np.float32):\n",
    "    \n",
    "    \"\"\"\n",
    "    Load an audio buffer using audioread.\n",
    "    This loads one block at a time, and then concatenates the results.\n",
    "    \"\"\"\n",
    "    y = []\n",
    "    with audioread.audio_open(path) as input_file:\n",
    "        sr_native = input_file.samplerate\n",
    "        n_channels = input_file.channels\n",
    "\n",
    "        s_start = int(np.round(sr_native * offset)) * n_channels\n",
    "\n",
    "        if duration is None:\n",
    "            s_end = np.inf\n",
    "        else:\n",
    "            s_end = s_start + (int(np.round(sr_native * duration)) * n_channels)\n",
    "\n",
    "        n = 0\n",
    "        for frame in input_file:\n",
    "            frame = util.buf_to_float(frame, dtype=dtype)\n",
    "            n_prev = n\n",
    "            n = n + len(frame)\n",
    "\n",
    "            if n < s_start:\n",
    "                # offset is after the current frame\n",
    "                # keep reading\n",
    "                continue\n",
    "\n",
    "            if s_end < n_prev:\n",
    "                # we're off the end.  stop reading\n",
    "                break\n",
    "\n",
    "            if s_end < n:\n",
    "                # the end is in this frame.  crop.\n",
    "                frame = frame[: s_end - n_prev]\n",
    "\n",
    "            if n_prev <= s_start <= n:\n",
    "                # beginning is in this frame\n",
    "                frame = frame[(s_start - n_prev) :]\n",
    "                \n",
    "            # tack on the current frame\n",
    "            y.append(frame)\n",
    "    if y:\n",
    "        y = np.concatenate(y)\n",
    "        if n_channels > 1:\n",
    "            y = y.reshape((-1, n_channels)).T\n",
    "    else:\n",
    "        y = np.empty(0, dtype=dtype)\n",
    "        \n",
    "    if n_channels > 1:\n",
    "        y = librosa.to_mono(y)\n",
    "\n",
    "    return y, sr_native"
   ]
  },
  {
   "cell_type": "code",
   "execution_count": 6,
   "id": "3d18554f",
   "metadata": {
    "execution": {
     "iopub.execute_input": "2021-08-28T18:22:52.778960Z",
     "iopub.status.busy": "2021-08-28T18:22:52.773410Z",
     "iopub.status.idle": "2021-08-28T18:22:52.782534Z",
     "shell.execute_reply": "2021-08-28T18:22:52.782004Z",
     "shell.execute_reply.started": "2021-08-28T11:52:21.351871Z"
    },
    "papermill": {
     "duration": 0.035741,
     "end_time": "2021-08-28T18:22:52.782675",
     "exception": false,
     "start_time": "2021-08-28T18:22:52.746934",
     "status": "completed"
    },
    "tags": []
   },
   "outputs": [],
   "source": [
    "import librosa as lb\n",
    "import soundfile as sf\n",
    "\n",
    "def load_audio(fp):\n",
    "    y, sr = audioread_load(fp, duration=30)\n",
    "    if sr != 22050:\n",
    "        y = librosa.resample(y, sr, 22050)\n",
    "    yt, _ = librosa.effects.trim(y)\n",
    "    return yt, sr\n",
    "\n",
    "\n",
    "def audio_features(fp, mfcc=True, chroma=True, mel=True):\n",
    "    \n",
    "    result=np.array([])\n",
    "    audio, sr = load_audio(fp)\n",
    "    \n",
    "    if mfcc:\n",
    "        mfccs = np.mean(librosa.feature.mfcc(y=audio, sr=sr,\n",
    "                        n_fft=4096, hop_length=256, n_mfcc=40).T, axis=0)\n",
    "        # np.squeeze(mfcc_feature.T) if not flatten else np.ravel(mfcc_feature.T)\n",
    "        \n",
    "    if chroma:\n",
    "        stft = np.abs(librosa.stft(audio))\n",
    "        chromas=np.mean(lb.feature.chroma_stft(S=stft, sr=sr).T,axis=0)\n",
    "        contrast = np.mean(librosa.feature.spectral_contrast(S=stft, sr=sr).T,\n",
    "                           axis=0)\n",
    "    if mel:\n",
    "        mels=np.mean(librosa.feature.melspectrogram(audio, sr=sr, \n",
    "                                                    n_mels=128, fmax=8000).T,axis=0)\n",
    "    tonnetz = np.mean(librosa.feature.tonnetz(y=librosa.effects.harmonic(audio),\n",
    "                                              sr=sr).T,axis=0)\n",
    "    spec_cent = np.mean(librosa.feature.spectral_centroid(y=audio, sr=sr))\n",
    "    spec_ft = np.mean(librosa.feature.spectral_flatness(y=audio))\n",
    "    \n",
    "    # rolloff = np.mean(librosa.feature.spectral_rolloff(y=audio, sr=sr))\n",
    "    p3 = librosa.feature.poly_features(S=audio, sr=sr, order=3)\n",
    "    rmse = np.mean(librosa.feature.rms(y=audio))\n",
    "    zcr = np.mean(librosa.feature.zero_crossing_rate(audio))\n",
    "    result = np.hstack((mfccs, chromas, mels, contrast, spec_cent,\n",
    "                        spec_ft, tonnetz, rmse, p3, zcr))\n",
    "\n",
    "    return result"
   ]
  },
  {
   "cell_type": "code",
   "execution_count": 7,
   "id": "398d3864",
   "metadata": {
    "execution": {
     "iopub.execute_input": "2021-08-28T18:22:52.826835Z",
     "iopub.status.busy": "2021-08-28T18:22:52.826156Z",
     "iopub.status.idle": "2021-08-28T20:35:07.609663Z",
     "shell.execute_reply": "2021-08-28T20:35:07.609086Z",
     "shell.execute_reply.started": "2021-08-28T11:52:21.821949Z"
    },
    "papermill": {
     "duration": 7934.809036,
     "end_time": "2021-08-28T20:35:07.609846",
     "exception": false,
     "start_time": "2021-08-28T18:22:52.800810",
     "status": "completed"
    },
    "tags": []
   },
   "outputs": [
    {
     "data": {
      "application/vnd.jupyter.widget-view+json": {
       "model_id": "b972a0c23840432f9d048ba8e791c969",
       "version_major": 2,
       "version_minor": 0
      },
      "text/plain": [
       "  0%|          | 0/12798 [00:00<?, ?it/s]"
      ]
     },
     "metadata": {},
     "output_type": "display_data"
    },
    {
     "data": {
      "text/plain": [
       "((12798, 201), 12798, 12798)"
      ]
     },
     "execution_count": 7,
     "metadata": {},
     "output_type": "execute_result"
    }
   ],
   "source": [
    "from tqdm.notebook import tqdm\n",
    "\n",
    "train_data = []\n",
    "train_labels = []\n",
    "for fp, label in tqdm(data_df.values[:]):\n",
    "    audio_feat = audio_features(fp)\n",
    "    train_data.append(audio_feat)\n",
    "    train_labels.append(label)\n",
    "    \n",
    "train_feat = pd.DataFrame(train_data)\n",
    "train_data = train_feat.copy()\n",
    "train_data['emotion'] = train_labels\n",
    "train_data.to_csv(\"train_data.csv\", index=False)\n",
    "train_feat.shape, len(train_feat), len(train_labels)"
   ]
  },
  {
   "cell_type": "code",
   "execution_count": 8,
   "id": "d687cc0e",
   "metadata": {
    "execution": {
     "iopub.execute_input": "2021-08-28T20:35:07.659462Z",
     "iopub.status.busy": "2021-08-28T20:35:07.658438Z",
     "iopub.status.idle": "2021-08-28T20:35:07.665155Z",
     "shell.execute_reply": "2021-08-28T20:35:07.664584Z",
     "shell.execute_reply.started": "2021-08-28T11:52:39.1134Z"
    },
    "papermill": {
     "duration": 0.036239,
     "end_time": "2021-08-28T20:35:07.665303",
     "exception": false,
     "start_time": "2021-08-28T20:35:07.629064",
     "status": "completed"
    },
    "tags": []
   },
   "outputs": [
    {
     "data": {
      "text/plain": [
       "{'anger': 0,\n",
       " 'disgust': 1,\n",
       " 'fear': 2,\n",
       " 'joy': 3,\n",
       " 'neutral': 4,\n",
       " 'sadness': 5,\n",
       " 'surprise': 6}"
      ]
     },
     "execution_count": 8,
     "metadata": {},
     "output_type": "execute_result"
    }
   ],
   "source": [
    "classes = sorted(train_data['emotion'].unique().tolist())\n",
    "map_class_to_id = dict(zip(classes, range(0, len(classes))))\n",
    "id_to_class = {v:k for k, v in map_class_to_id.items()}\n",
    "map_class_to_id"
   ]
  },
  {
   "cell_type": "code",
   "execution_count": 9,
   "id": "7d91d22c",
   "metadata": {
    "execution": {
     "iopub.execute_input": "2021-08-28T20:35:07.713118Z",
     "iopub.status.busy": "2021-08-28T20:35:07.712206Z",
     "iopub.status.idle": "2021-08-28T20:35:07.717086Z",
     "shell.execute_reply": "2021-08-28T20:35:07.716506Z",
     "shell.execute_reply.started": "2021-08-28T11:52:39.821679Z"
    },
    "papermill": {
     "duration": 0.032569,
     "end_time": "2021-08-28T20:35:07.717232",
     "exception": false,
     "start_time": "2021-08-28T20:35:07.684663",
     "status": "completed"
    },
    "tags": []
   },
   "outputs": [
    {
     "data": {
      "text/plain": [
       "12798"
      ]
     },
     "execution_count": 9,
     "metadata": {},
     "output_type": "execute_result"
    }
   ],
   "source": [
    "train_labels = [float(map_class_to_id[l]) for l in train_labels]\n",
    "len(train_labels)"
   ]
  },
  {
   "cell_type": "code",
   "execution_count": 10,
   "id": "6dcb648e",
   "metadata": {
    "execution": {
     "iopub.execute_input": "2021-08-28T20:35:07.765882Z",
     "iopub.status.busy": "2021-08-28T20:35:07.764817Z",
     "iopub.status.idle": "2021-08-28T20:35:13.283149Z",
     "shell.execute_reply": "2021-08-28T20:35:13.282498Z",
     "shell.execute_reply.started": "2021-08-28T11:52:42.821473Z"
    },
    "papermill": {
     "duration": 5.54587,
     "end_time": "2021-08-28T20:35:13.283304",
     "exception": false,
     "start_time": "2021-08-28T20:35:07.737434",
     "status": "completed"
    },
    "tags": []
   },
   "outputs": [
    {
     "data": {
      "text/plain": [
       "((10238, 201, 1), (2560, 201, 1), 10238, 2560)"
      ]
     },
     "execution_count": 10,
     "metadata": {},
     "output_type": "execute_result"
    }
   ],
   "source": [
    "import matplotlib.pyplot as plt\n",
    "import seaborn as sns\n",
    "from keras import layers\n",
    "from keras import models\n",
    "from keras.utils import np_utils\n",
    "from sklearn.model_selection import train_test_split\n",
    "from sklearn.preprocessing import LabelEncoder, StandardScaler\n",
    "from tensorflow.python.keras.callbacks import EarlyStopping, ReduceLROnPlateau\n",
    "import itertools\n",
    "\n",
    "X_train, X_val, y_train, y_val = train_test_split(train_feat, np.array(train_labels), \n",
    "                                                    random_state=2020, \n",
    "                                                    test_size=0.2, shuffle=True)\n",
    "X_train = np.expand_dims(X_train, axis=2)\n",
    "X_val = np.expand_dims(X_val, axis=2)\n",
    "X_train.shape, X_val.shape, len(y_train), len(y_val)"
   ]
  },
  {
   "cell_type": "code",
   "execution_count": 11,
   "id": "a4b1b135",
   "metadata": {
    "execution": {
     "iopub.execute_input": "2021-08-28T20:35:13.330094Z",
     "iopub.status.busy": "2021-08-28T20:35:13.329165Z",
     "iopub.status.idle": "2021-08-28T20:35:13.332573Z",
     "shell.execute_reply": "2021-08-28T20:35:13.331955Z",
     "shell.execute_reply.started": "2021-08-28T11:54:02.709357Z"
    },
    "papermill": {
     "duration": 0.029085,
     "end_time": "2021-08-28T20:35:13.332733",
     "exception": false,
     "start_time": "2021-08-28T20:35:13.303648",
     "status": "completed"
    },
    "tags": []
   },
   "outputs": [],
   "source": [
    "earlystop = EarlyStopping(monitor =\"val_acc\",mode = 'auto', patience=10,\n",
    "                              restore_best_weights = True)\n",
    "\n",
    "lr_reduce = ReduceLROnPlateau(monitor='val_acc',patience=3,\n",
    "                              verbose=1,factor=0.5,min_lr=0.00001)"
   ]
  },
  {
   "cell_type": "code",
   "execution_count": 12,
   "id": "a0cfae0d",
   "metadata": {
    "execution": {
     "iopub.execute_input": "2021-08-28T20:35:13.376182Z",
     "iopub.status.busy": "2021-08-28T20:35:13.375515Z",
     "iopub.status.idle": "2021-08-28T20:35:13.715740Z",
     "shell.execute_reply": "2021-08-28T20:35:13.716441Z",
     "shell.execute_reply.started": "2021-08-28T11:55:51.074447Z"
    },
    "papermill": {
     "duration": 0.363783,
     "end_time": "2021-08-28T20:35:13.716634",
     "exception": false,
     "start_time": "2021-08-28T20:35:13.352851",
     "status": "completed"
    },
    "tags": []
   },
   "outputs": [
    {
     "name": "stdout",
     "output_type": "stream",
     "text": [
      "Model: \"sequential\"\n",
      "_________________________________________________________________\n",
      "Layer (type)                 Output Shape              Param #   \n",
      "=================================================================\n",
      "conv1d (Conv1D)              (None, 201, 1024)         6144      \n",
      "_________________________________________________________________\n",
      "batch_normalization (BatchNo (None, 201, 1024)         4096      \n",
      "_________________________________________________________________\n",
      "max_pooling1d (MaxPooling1D) (None, 101, 1024)         0         \n",
      "_________________________________________________________________\n",
      "conv1d_1 (Conv1D)            (None, 101, 512)          2097664   \n",
      "_________________________________________________________________\n",
      "batch_normalization_1 (Batch (None, 101, 512)          2048      \n",
      "_________________________________________________________________\n",
      "max_pooling1d_1 (MaxPooling1 (None, 51, 512)           0         \n",
      "_________________________________________________________________\n",
      "conv1d_2 (Conv1D)            (None, 51, 256)           393472    \n",
      "_________________________________________________________________\n",
      "batch_normalization_2 (Batch (None, 51, 256)           1024      \n",
      "_________________________________________________________________\n",
      "max_pooling1d_2 (MaxPooling1 (None, 26, 256)           0         \n",
      "_________________________________________________________________\n",
      "flatten (Flatten)            (None, 6656)              0         \n",
      "_________________________________________________________________\n",
      "dense (Dense)                (None, 1024)              6816768   \n",
      "_________________________________________________________________\n",
      "batch_normalization_3 (Batch (None, 1024)              4096      \n",
      "_________________________________________________________________\n",
      "dense_1 (Dense)              (None, 256)               262400    \n",
      "_________________________________________________________________\n",
      "batch_normalization_4 (Batch (None, 256)               1024      \n",
      "_________________________________________________________________\n",
      "dense_2 (Dense)              (None, 7)                 1799      \n",
      "=================================================================\n",
      "Total params: 9,590,535\n",
      "Trainable params: 9,584,391\n",
      "Non-trainable params: 6,144\n",
      "_________________________________________________________________\n"
     ]
    }
   ],
   "source": [
    "model = models.Sequential()\n",
    "model.add(layers.Conv1D(1024, kernel_size=5, strides=1,\n",
    "                        padding=\"same\", activation=\"relu\",\n",
    "                       input_shape=(X_train.shape[1], 1)))\n",
    "model.add(layers.BatchNormalization())\n",
    "model.add(layers.MaxPool1D(pool_size=5, strides=2, padding=\"same\"))\n",
    "\n",
    "model.add(layers.Conv1D(512, kernel_size=4, strides=1,\n",
    "                        padding=\"same\", activation=\"relu\"))\n",
    "model.add(layers.BatchNormalization())\n",
    "model.add(layers.MaxPool1D(pool_size=4, strides=2, padding=\"same\"))\n",
    "\n",
    "model.add(layers.Conv1D(256, kernel_size=3, strides=1, padding='same', activation='relu'))\n",
    "model.add(layers.BatchNormalization())\n",
    "model.add(layers.MaxPooling1D(pool_size=3, strides = 2, padding = 'same'))\n",
    "\n",
    "model.add(layers.Flatten())\n",
    "model.add(layers.Dense(1024, activation='relu'))\n",
    "model.add(layers.BatchNormalization())\n",
    "model.add(layers.Dense(256, activation='relu'))\n",
    "model.add(layers.BatchNormalization())\n",
    "model.add(layers.Dense(7, activation=\"softmax\"))\n",
    "\n",
    "model.compile(optimizer=\"adam\",\n",
    "              loss=\"sparse_categorical_crossentropy\", \n",
    "              metrics=[\"acc\"])\n",
    "model.summary()"
   ]
  },
  {
   "cell_type": "code",
   "execution_count": 13,
   "id": "8021c751",
   "metadata": {
    "execution": {
     "iopub.execute_input": "2021-08-28T20:35:13.764780Z",
     "iopub.status.busy": "2021-08-28T20:35:13.764053Z",
     "iopub.status.idle": "2021-08-28T23:39:34.634981Z",
     "shell.execute_reply": "2021-08-28T23:39:34.634330Z",
     "shell.execute_reply.started": "2021-08-28T11:54:55.064035Z"
    },
    "papermill": {
     "duration": 11060.898126,
     "end_time": "2021-08-28T23:39:34.635178",
     "exception": false,
     "start_time": "2021-08-28T20:35:13.737052",
     "status": "completed"
    },
    "tags": []
   },
   "outputs": [
    {
     "name": "stdout",
     "output_type": "stream",
     "text": [
      "Epoch 1/100\n",
      "160/160 [==============================] - 220s 1s/step - loss: 1.6598 - acc: 0.3754 - val_loss: 2.5173 - val_acc: 0.2320\n",
      "Epoch 2/100\n",
      "160/160 [==============================] - 216s 1s/step - loss: 1.2093 - acc: 0.5318 - val_loss: 3.1068 - val_acc: 0.2168\n",
      "Epoch 3/100\n",
      "160/160 [==============================] - 216s 1s/step - loss: 1.1635 - acc: 0.5374 - val_loss: 1.8256 - val_acc: 0.3734\n",
      "Epoch 4/100\n",
      "160/160 [==============================] - 218s 1s/step - loss: 1.0847 - acc: 0.5800 - val_loss: 1.8424 - val_acc: 0.4035\n",
      "Epoch 5/100\n",
      "160/160 [==============================] - 219s 1s/step - loss: 1.0927 - acc: 0.5763 - val_loss: 2.2460 - val_acc: 0.3102\n",
      "Epoch 6/100\n",
      "160/160 [==============================] - 218s 1s/step - loss: 1.0475 - acc: 0.5916 - val_loss: 1.8456 - val_acc: 0.4070\n",
      "Epoch 7/100\n",
      "160/160 [==============================] - 220s 1s/step - loss: 1.0472 - acc: 0.5912 - val_loss: 1.4162 - val_acc: 0.4953\n",
      "Epoch 8/100\n",
      "160/160 [==============================] - 218s 1s/step - loss: 1.0298 - acc: 0.5980 - val_loss: 1.7235 - val_acc: 0.4445\n",
      "Epoch 9/100\n",
      "160/160 [==============================] - 220s 1s/step - loss: 0.9891 - acc: 0.6213 - val_loss: 2.7101 - val_acc: 0.3617\n",
      "Epoch 10/100\n",
      "160/160 [==============================] - 220s 1s/step - loss: 0.9642 - acc: 0.6182 - val_loss: 1.8313 - val_acc: 0.4824\n",
      "\n",
      "Epoch 00010: ReduceLROnPlateau reducing learning rate to 0.0005000000237487257.\n",
      "Epoch 11/100\n",
      "160/160 [==============================] - 220s 1s/step - loss: 0.9432 - acc: 0.6467 - val_loss: 1.3681 - val_acc: 0.5508\n",
      "Epoch 12/100\n",
      "160/160 [==============================] - 221s 1s/step - loss: 0.8755 - acc: 0.6661 - val_loss: 1.0729 - val_acc: 0.5906\n",
      "Epoch 13/100\n",
      "160/160 [==============================] - 225s 1s/step - loss: 0.8819 - acc: 0.6590 - val_loss: 1.3181 - val_acc: 0.5434\n",
      "Epoch 14/100\n",
      "160/160 [==============================] - 222s 1s/step - loss: 0.8500 - acc: 0.6779 - val_loss: 1.1083 - val_acc: 0.5719\n",
      "Epoch 15/100\n",
      "160/160 [==============================] - 223s 1s/step - loss: 0.8408 - acc: 0.6754 - val_loss: 1.6383 - val_acc: 0.4828\n",
      "\n",
      "Epoch 00015: ReduceLROnPlateau reducing learning rate to 0.0002500000118743628.\n",
      "Epoch 16/100\n",
      "160/160 [==============================] - 231s 1s/step - loss: 0.7992 - acc: 0.6829 - val_loss: 1.4029 - val_acc: 0.5621\n",
      "Epoch 17/100\n",
      "160/160 [==============================] - 224s 1s/step - loss: 0.7704 - acc: 0.6957 - val_loss: 2.1735 - val_acc: 0.5168\n",
      "Epoch 18/100\n",
      "160/160 [==============================] - 223s 1s/step - loss: 0.7495 - acc: 0.7126 - val_loss: 1.4492 - val_acc: 0.5508\n",
      "\n",
      "Epoch 00018: ReduceLROnPlateau reducing learning rate to 0.0001250000059371814.\n",
      "Epoch 19/100\n",
      "160/160 [==============================] - 230s 1s/step - loss: 0.7152 - acc: 0.7251 - val_loss: 1.0408 - val_acc: 0.6121\n",
      "Epoch 20/100\n",
      "160/160 [==============================] - 225s 1s/step - loss: 0.6908 - acc: 0.7264 - val_loss: 1.0763 - val_acc: 0.6277\n",
      "Epoch 21/100\n",
      "160/160 [==============================] - 233s 1s/step - loss: 0.6758 - acc: 0.7435 - val_loss: 1.0632 - val_acc: 0.5945\n",
      "Epoch 22/100\n",
      "160/160 [==============================] - 225s 1s/step - loss: 0.6641 - acc: 0.7434 - val_loss: 1.0745 - val_acc: 0.6012\n",
      "Epoch 23/100\n",
      "160/160 [==============================] - 226s 1s/step - loss: 0.6571 - acc: 0.7410 - val_loss: 0.9537 - val_acc: 0.6461\n",
      "Epoch 24/100\n",
      "160/160 [==============================] - 233s 1s/step - loss: 0.6318 - acc: 0.7640 - val_loss: 1.0751 - val_acc: 0.6297\n",
      "Epoch 25/100\n",
      "160/160 [==============================] - 228s 1s/step - loss: 0.6281 - acc: 0.7642 - val_loss: 1.1414 - val_acc: 0.6234\n",
      "Epoch 26/100\n",
      "160/160 [==============================] - 228s 1s/step - loss: 0.6048 - acc: 0.7714 - val_loss: 1.1552 - val_acc: 0.6289\n",
      "\n",
      "Epoch 00026: ReduceLROnPlateau reducing learning rate to 6.25000029685907e-05.\n",
      "Epoch 27/100\n",
      "160/160 [==============================] - 235s 1s/step - loss: 0.5763 - acc: 0.7803 - val_loss: 1.2721 - val_acc: 0.6207\n",
      "Epoch 28/100\n",
      "160/160 [==============================] - 224s 1s/step - loss: 0.5552 - acc: 0.7879 - val_loss: 1.0561 - val_acc: 0.6145\n",
      "Epoch 29/100\n",
      "160/160 [==============================] - 233s 1s/step - loss: 0.5322 - acc: 0.8002 - val_loss: 1.1083 - val_acc: 0.6316\n",
      "\n",
      "Epoch 00029: ReduceLROnPlateau reducing learning rate to 3.125000148429535e-05.\n",
      "Epoch 30/100\n",
      "160/160 [==============================] - 225s 1s/step - loss: 0.5240 - acc: 0.7980 - val_loss: 1.0258 - val_acc: 0.6480\n",
      "Epoch 31/100\n",
      "160/160 [==============================] - 224s 1s/step - loss: 0.5111 - acc: 0.8109 - val_loss: 1.2024 - val_acc: 0.6324\n",
      "Epoch 32/100\n",
      "160/160 [==============================] - 231s 1s/step - loss: 0.5036 - acc: 0.8137 - val_loss: 1.1152 - val_acc: 0.6281\n",
      "Epoch 33/100\n",
      "160/160 [==============================] - 222s 1s/step - loss: 0.4924 - acc: 0.8177 - val_loss: 1.1530 - val_acc: 0.6426\n",
      "\n",
      "Epoch 00033: ReduceLROnPlateau reducing learning rate to 1.5625000742147677e-05.\n",
      "Epoch 34/100\n",
      "160/160 [==============================] - 224s 1s/step - loss: 0.4647 - acc: 0.8275 - val_loss: 1.1036 - val_acc: 0.6484\n",
      "Epoch 35/100\n",
      "160/160 [==============================] - 231s 1s/step - loss: 0.4721 - acc: 0.8315 - val_loss: 1.0748 - val_acc: 0.6465\n",
      "Epoch 36/100\n",
      "160/160 [==============================] - 226s 1s/step - loss: 0.4729 - acc: 0.8261 - val_loss: 1.0556 - val_acc: 0.6512\n",
      "Epoch 37/100\n",
      "160/160 [==============================] - 224s 1s/step - loss: 0.4781 - acc: 0.8284 - val_loss: 1.1398 - val_acc: 0.6383\n",
      "Epoch 38/100\n",
      "160/160 [==============================] - 232s 1s/step - loss: 0.4663 - acc: 0.8289 - val_loss: 1.2114 - val_acc: 0.6488\n",
      "Epoch 39/100\n",
      "160/160 [==============================] - 225s 1s/step - loss: 0.4541 - acc: 0.8343 - val_loss: 1.1011 - val_acc: 0.6594\n",
      "Epoch 40/100\n",
      "160/160 [==============================] - 233s 1s/step - loss: 0.4412 - acc: 0.8395 - val_loss: 1.1693 - val_acc: 0.6379\n",
      "Epoch 41/100\n",
      "160/160 [==============================] - 228s 1s/step - loss: 0.4600 - acc: 0.8275 - val_loss: 1.1801 - val_acc: 0.6383\n",
      "Epoch 42/100\n",
      "160/160 [==============================] - 229s 1s/step - loss: 0.4514 - acc: 0.8386 - val_loss: 1.0872 - val_acc: 0.6543\n",
      "\n",
      "Epoch 00042: ReduceLROnPlateau reducing learning rate to 1e-05.\n",
      "Epoch 43/100\n",
      "160/160 [==============================] - 237s 1s/step - loss: 0.4487 - acc: 0.8384 - val_loss: 1.1167 - val_acc: 0.6512\n",
      "Epoch 44/100\n",
      "160/160 [==============================] - 226s 1s/step - loss: 0.4367 - acc: 0.8366 - val_loss: 1.1131 - val_acc: 0.6570\n",
      "Epoch 45/100\n",
      "160/160 [==============================] - 226s 1s/step - loss: 0.4250 - acc: 0.8412 - val_loss: 1.1677 - val_acc: 0.6480\n",
      "Epoch 46/100\n",
      "160/160 [==============================] - 237s 1s/step - loss: 0.4283 - acc: 0.8474 - val_loss: 1.1503 - val_acc: 0.6488\n",
      "Epoch 47/100\n",
      "160/160 [==============================] - 227s 1s/step - loss: 0.4275 - acc: 0.8410 - val_loss: 1.1177 - val_acc: 0.6383\n",
      "Epoch 48/100\n",
      "160/160 [==============================] - 232s 1s/step - loss: 0.4194 - acc: 0.8497 - val_loss: 1.1130 - val_acc: 0.6531\n",
      "Epoch 49/100\n",
      "160/160 [==============================] - 227s 1s/step - loss: 0.4168 - acc: 0.8531 - val_loss: 1.1764 - val_acc: 0.6352\n"
     ]
    }
   ],
   "source": [
    "EPOCHS = 100\n",
    "batch_size = 64\n",
    "history = model.fit(X_train, y_train, validation_data=(X_val, y_val),\n",
    "                    epochs=EPOCHS, batch_size=batch_size,\n",
    "                    callbacks=[earlystop, lr_reduce])"
   ]
  },
  {
   "cell_type": "code",
   "execution_count": 14,
   "id": "eb56e452",
   "metadata": {
    "execution": {
     "iopub.execute_input": "2021-08-28T23:39:39.525868Z",
     "iopub.status.busy": "2021-08-28T23:39:39.524778Z",
     "iopub.status.idle": "2021-08-28T23:39:39.792525Z",
     "shell.execute_reply": "2021-08-28T23:39:39.791945Z",
     "shell.execute_reply.started": "2021-08-27T18:11:46.140036Z"
    },
    "papermill": {
     "duration": 2.741904,
     "end_time": "2021-08-28T23:39:39.792710",
     "exception": false,
     "start_time": "2021-08-28T23:39:37.050806",
     "status": "completed"
    },
    "tags": []
   },
   "outputs": [
    {
     "data": {
      "text/plain": [
       "array([[9.41278238e-04, 7.59322429e-04, 1.03355036e-04, 6.11376832e-04,\n",
       "        9.97354150e-01, 2.26126300e-04, 4.35505444e-06],\n",
       "       [2.33385712e-04, 9.99296188e-01, 3.48439464e-08, 6.88853061e-06,\n",
       "        3.75668169e-04, 6.24112909e-06, 8.15830354e-05],\n",
       "       [1.08090683e-06, 9.99947309e-01, 1.37988408e-07, 1.92806988e-06,\n",
       "        2.90756407e-06, 3.59362857e-05, 1.08170134e-05]], dtype=float32)"
      ]
     },
     "execution_count": 14,
     "metadata": {},
     "output_type": "execute_result"
    }
   ],
   "source": [
    "model.predict(X_train[:3])"
   ]
  },
  {
   "cell_type": "code",
   "execution_count": 15,
   "id": "d666612f",
   "metadata": {
    "execution": {
     "iopub.execute_input": "2021-08-28T23:39:44.836713Z",
     "iopub.status.busy": "2021-08-28T23:39:44.828605Z",
     "iopub.status.idle": "2021-08-28T23:39:45.213139Z",
     "shell.execute_reply": "2021-08-28T23:39:45.212248Z",
     "shell.execute_reply.started": "2021-08-27T18:05:17.467849Z"
    },
    "papermill": {
     "duration": 2.830608,
     "end_time": "2021-08-28T23:39:45.213320",
     "exception": false,
     "start_time": "2021-08-28T23:39:42.382712",
     "status": "completed"
    },
    "tags": []
   },
   "outputs": [
    {
     "data": {
      "image/png": "[encoded data removed]",
      "text/plain": [
       "<Figure size 1440x432 with 2 Axes>"
      ]
     },
     "metadata": {
      "needs_background": "light"
     },
     "output_type": "display_data"
    }
   ],
   "source": [
    "fig , ax = plt.subplots(1,2)\n",
    "train_acc = history.history['acc']\n",
    "train_loss = history.history['loss']\n",
    "val_acc = history.history['val_acc']\n",
    "val_loss = history.history['val_loss']\n",
    "\n",
    "fig.set_size_inches(20,6)\n",
    "ax[0].plot(train_loss, label = 'Train Loss')\n",
    "ax[0].plot(val_loss , label = 'Val Loss')\n",
    "ax[0].set_title('Train & Val Loss')\n",
    "ax[0].legend()\n",
    "ax[0].set_xlabel(\"Epochs\")\n",
    "\n",
    "ax[1].plot(train_acc, label = 'Train Accuracy')\n",
    "ax[1].plot(val_acc , label = 'Val Accuracy')\n",
    "ax[1].set_title('Train & Val Accuracy')\n",
    "ax[1].legend()\n",
    "ax[1].set_xlabel(\"Epochs\")\n",
    "plt.show()"
   ]
  },
  {
   "cell_type": "code",
   "execution_count": 16,
   "id": "5e016d26",
   "metadata": {
    "execution": {
     "iopub.execute_input": "2021-08-28T23:39:50.155588Z",
     "iopub.status.busy": "2021-08-28T23:39:50.153864Z",
     "iopub.status.idle": "2021-08-28T23:39:50.686983Z",
     "shell.execute_reply": "2021-08-28T23:39:50.685471Z",
     "shell.execute_reply.started": "2021-08-27T18:05:17.934979Z"
    },
    "papermill": {
     "duration": 3.019913,
     "end_time": "2021-08-28T23:39:50.687161",
     "exception": false,
     "start_time": "2021-08-28T23:39:47.667248",
     "status": "completed"
    },
    "tags": []
   },
   "outputs": [],
   "source": [
    "path_to_model = \"./model_v1.h5\"\n",
    "model.save(path_to_model)"
   ]
  },
  {
   "cell_type": "code",
   "execution_count": null,
   "id": "1ff0e115",
   "metadata": {
    "papermill": {
     "duration": 2.440851,
     "end_time": "2021-08-28T23:39:55.571339",
     "exception": false,
     "start_time": "2021-08-28T23:39:53.130488",
     "status": "completed"
    },
    "tags": []
   },
   "outputs": [],
   "source": []
  }
 ],
 "metadata": {
  "kernelspec": {
   "display_name": "Python 3",
   "language": "python",
   "name": "python3"
  },
  "language_info": {
   "codemirror_mode": {
    "name": "ipython",
    "version": 3
   },
   "file_extension": ".py",
   "mimetype": "text/x-python",
   "name": "python",
   "nbconvert_exporter": "python",
   "pygments_lexer": "ipython3",
   "version": "3.7.10"
  },
  "papermill": {
   "default_parameters": {},
   "duration": 19052.406685,
   "end_time": "2021-08-28T23:40:00.531979",
   "environment_variables": {},
   "exception": null,
   "input_path": "__notebook__.ipynb",
   "output_path": "__notebook__.ipynb",
   "parameters": {},
   "start_time": "2021-08-28T18:22:28.125294",
   "version": "2.3.3"
  },
  "widgets": {
   "application/vnd.jupyter.widget-state+json": {
    "state": {
     "206396a2af07429890ecd62e97514076": {
      "model_module": "@jupyter-widgets/controls",
      "model_module_version": "1.5.0",
      "model_name": "DescriptionStyleModel",
      "state": {
       "_model_module": "@jupyter-widgets/controls",
       "_model_module_version": "1.5.0",
       "_model_name": "DescriptionStyleModel",
       "_view_count": null,
       "_view_module": "@jupyter-widgets/base",
       "_view_module_version": "1.2.0",
       "_view_name": "StyleView",
       "description_width": ""
      }
     },
     "3e076a2a8d584d00a7c0d0c407d37a3e": {
      "model_module": "@jupyter-widgets/controls",
      "model_module_version": "1.5.0",
      "model_name": "HTMLModel",
      "state": {
       "_dom_classes": [],
       "_model_module": "@jupyter-widgets/controls",
       "_model_module_version": "1.5.0",
       "_model_name": "HTMLModel",
       "_view_count": null,
       "_view_module": "@jupyter-widgets/controls",
       "_view_module_version": "1.5.0",
       "_view_name": "HTMLView",
       "description": "",
       "description_tooltip": null,
       "layout": "IPY_MODEL_88211fe48911499ead7264b35fcb1916",
       "placeholder": "​",
       "style": "IPY_MODEL_d1ce6dd7df664e3e8f07bab784a6effb",
       "value": "100%"
      }
     },
     "6c38c6ae9ab84173a2d9ffd2601653f9": {
      "model_module": "@jupyter-widgets/base",
      "model_module_version": "1.2.0",
      "model_name": "LayoutModel",
      "state": {
       "_model_module": "@jupyter-widgets/base",
       "_model_module_version": "1.2.0",
       "_model_name": "LayoutModel",
       "_view_count": null,
       "_view_module": "@jupyter-widgets/base",
       "_view_module_version": "1.2.0",
       "_view_name": "LayoutView",
       "align_content": null,
       "align_items": null,
       "align_self": null,
       "border": null,
       "bottom": null,
       "display": null,
       "flex": null,
       "flex_flow": null,
       "grid_area": null,
       "grid_auto_columns": null,
       "grid_auto_flow": null,
       "grid_auto_rows": null,
       "grid_column": null,
       "grid_gap": null,
       "grid_row": null,
       "grid_template_areas": null,
       "grid_template_columns": null,
       "grid_template_rows": null,
       "height": null,
       "justify_content": null,
       "justify_items": null,
       "left": null,
       "margin": null,
       "max_height": null,
       "max_width": null,
       "min_height": null,
       "min_width": null,
       "object_fit": null,
       "object_position": null,
       "order": null,
       "overflow": null,
       "overflow_x": null,
       "overflow_y": null,
       "padding": null,
       "right": null,
       "top": null,
       "visibility": null,
       "width": null
      }
     },
     "6e9a8b6f5ccb4e6fab12f6d2454c2895": {
      "model_module": "@jupyter-widgets/base",
      "model_module_version": "1.2.0",
      "model_name": "LayoutModel",
      "state": {
       "_model_module": "@jupyter-widgets/base",
       "_model_module_version": "1.2.0",
       "_model_name": "LayoutModel",
       "_view_count": null,
       "_view_module": "@jupyter-widgets/base",
       "_view_module_version": "1.2.0",
       "_view_name": "LayoutView",
       "align_content": null,
       "align_items": null,
       "align_self": null,
       "border": null,
       "bottom": null,
       "display": null,
       "flex": null,
       "flex_flow": null,
       "grid_area": null,
       "grid_auto_columns": null,
       "grid_auto_flow": null,
       "grid_auto_rows": null,
       "grid_column": null,
       "grid_gap": null,
       "grid_row": null,
       "grid_template_areas": null,
       "grid_template_columns": null,
       "grid_template_rows": null,
       "height": null,
       "justify_content": null,
       "justify_items": null,
       "left": null,
       "margin": null,
       "max_height": null,
       "max_width": null,
       "min_height": null,
       "min_width": null,
       "object_fit": null,
       "object_position": null,
       "order": null,
       "overflow": null,
       "overflow_x": null,
       "overflow_y": null,
       "padding": null,
       "right": null,
       "top": null,
       "visibility": null,
       "width": null
      }
     },
     "7ba5ac103a5840a38e8c77cb0189b88e": {
      "model_module": "@jupyter-widgets/base",
      "model_module_version": "1.2.0",
      "model_name": "LayoutModel",
      "state": {
       "_model_module": "@jupyter-widgets/base",
       "_model_module_version": "1.2.0",
       "_model_name": "LayoutModel",
       "_view_count": null,
       "_view_module": "@jupyter-widgets/base",
       "_view_module_version": "1.2.0",
       "_view_name": "LayoutView",
       "align_content": null,
       "align_items": null,
       "align_self": null,
       "border": null,
       "bottom": null,
       "display": null,
       "flex": null,
       "flex_flow": null,
       "grid_area": null,
       "grid_auto_columns": null,
       "grid_auto_flow": null,
       "grid_auto_rows": null,
       "grid_column": null,
       "grid_gap": null,
       "grid_row": null,
       "grid_template_areas": null,
       "grid_template_columns": null,
       "grid_template_rows": null,
       "height": null,
       "justify_content": null,
       "justify_items": null,
       "left": null,
       "margin": null,
       "max_height": null,
       "max_width": null,
       "min_height": null,
       "min_width": null,
       "object_fit": null,
       "object_position": null,
       "order": null,
       "overflow": null,
       "overflow_x": null,
       "overflow_y": null,
       "padding": null,
       "right": null,
       "top": null,
       "visibility": null,
       "width": null
      }
     },
     "88211fe48911499ead7264b35fcb1916": {
      "model_module": "@jupyter-widgets/base",
      "model_module_version": "1.2.0",
      "model_name": "LayoutModel",
      "state": {
       "_model_module": "@jupyter-widgets/base",
       "_model_module_version": "1.2.0",
       "_model_name": "LayoutModel",
       "_view_count": null,
       "_view_module": "@jupyter-widgets/base",
       "_view_module_version": "1.2.0",
       "_view_name": "LayoutView",
       "align_content": null,
       "align_items": null,
       "align_self": null,
       "border": null,
       "bottom": null,
       "display": null,
       "flex": null,
       "flex_flow": null,
       "grid_area": null,
       "grid_auto_columns": null,
       "grid_auto_flow": null,
       "grid_auto_rows": null,
       "grid_column": null,
       "grid_gap": null,
       "grid_row": null,
       "grid_template_areas": null,
       "grid_template_columns": null,
       "grid_template_rows": null,
       "height": null,
       "justify_content": null,
       "justify_items": null,
       "left": null,
       "margin": null,
       "max_height": null,
       "max_width": null,
       "min_height": null,
       "min_width": null,
       "object_fit": null,
       "object_position": null,
       "order": null,
       "overflow": null,
       "overflow_x": null,
       "overflow_y": null,
       "padding": null,
       "right": null,
       "top": null,
       "visibility": null,
       "width": null
      }
     },
     "b972a0c23840432f9d048ba8e791c969": {
      "model_module": "@jupyter-widgets/controls",
      "model_module_version": "1.5.0",
      "model_name": "HBoxModel",
      "state": {
       "_dom_classes": [],
       "_model_module": "@jupyter-widgets/controls",
       "_model_module_version": "1.5.0",
       "_model_name": "HBoxModel",
       "_view_count": null,
       "_view_module": "@jupyter-widgets/controls",
       "_view_module_version": "1.5.0",
       "_view_name": "HBoxView",
       "box_style": "",
       "children": [
        "IPY_MODEL_3e076a2a8d584d00a7c0d0c407d37a3e",
        "IPY_MODEL_cc390d9c1da348ad90ff750911c14d60",
        "IPY_MODEL_c0347f9141894d0db97b6aa5985e593c"
       ],
       "layout": "IPY_MODEL_7ba5ac103a5840a38e8c77cb0189b88e"
      }
     },
     "c0347f9141894d0db97b6aa5985e593c": {
      "model_module": "@jupyter-widgets/controls",
      "model_module_version": "1.5.0",
      "model_name": "HTMLModel",
      "state": {
       "_dom_classes": [],
       "_model_module": "@jupyter-widgets/controls",
       "_model_module_version": "1.5.0",
       "_model_name": "HTMLModel",
       "_view_count": null,
       "_view_module": "@jupyter-widgets/controls",
       "_view_module_version": "1.5.0",
       "_view_name": "HTMLView",
       "description": "",
       "description_tooltip": null,
       "layout": "IPY_MODEL_6c38c6ae9ab84173a2d9ffd2601653f9",
       "placeholder": "​",
       "style": "IPY_MODEL_206396a2af07429890ecd62e97514076",
       "value": " 12798/12798 [2:12:06&lt;00:00,  1.58it/s]"
      }
     },
     "cc390d9c1da348ad90ff750911c14d60": {
      "model_module": "@jupyter-widgets/controls",
      "model_module_version": "1.5.0",
      "model_name": "FloatProgressModel",
      "state": {
       "_dom_classes": [],
       "_model_module": "@jupyter-widgets/controls",
       "_model_module_version": "1.5.0",
       "_model_name": "FloatProgressModel",
       "_view_count": null,
       "_view_module": "@jupyter-widgets/controls",
       "_view_module_version": "1.5.0",
       "_view_name": "ProgressView",
       "bar_style": "success",
       "description": "",
       "description_tooltip": null,
       "layout": "IPY_MODEL_6e9a8b6f5ccb4e6fab12f6d2454c2895",
       "max": 12798.0,
       "min": 0.0,
       "orientation": "horizontal",
       "style": "IPY_MODEL_da9b99bba5bc4cddbf02c832b9bd20df",
       "value": 12798.0
      }
     },
     "d1ce6dd7df664e3e8f07bab784a6effb": {
      "model_module": "@jupyter-widgets/controls",
      "model_module_version": "1.5.0",
      "model_name": "DescriptionStyleModel",
      "state": {
       "_model_module": "@jupyter-widgets/controls",
       "_model_module_version": "1.5.0",
       "_model_name": "DescriptionStyleModel",
       "_view_count": null,
       "_view_module": "@jupyter-widgets/base",
       "_view_module_version": "1.2.0",
       "_view_name": "StyleView",
       "description_width": ""
      }
     },
     "da9b99bba5bc4cddbf02c832b9bd20df": {
      "model_module": "@jupyter-widgets/controls",
      "model_module_version": "1.5.0",
      "model_name": "ProgressStyleModel",
      "state": {
       "_model_module": "@jupyter-widgets/controls",
       "_model_module_version": "1.5.0",
       "_model_name": "ProgressStyleModel",
       "_view_count": null,
       "_view_module": "@jupyter-widgets/base",
       "_view_module_version": "1.2.0",
       "_view_name": "StyleView",
       "bar_color": null,
       "description_width": ""
      }
     }
    },
    "version_major": 2,
    "version_minor": 0
   }
  }
 },
 "nbformat": 4,
 "nbformat_minor": 5
}
